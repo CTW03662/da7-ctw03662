{
 "cells": [
  {
   "cell_type": "code",
   "execution_count": 1,
   "metadata": {
    "id": "CyuKJQcGVi8E"
   },
   "outputs": [],
   "source": [
    "################################################################\n",
    "################################################################\n",
    "#Company: Critical Techworks (CTW)\n",
    "#Course: 7th. Data Academy lisbon - PT\n",
    "#Module: Machine Learning & Artificial Intelligence\n",
    "#Author: Carlos Fernando Arraz | Date: May 16th, 2024\n",
    "#Lab 2: Optmization problem in K-means\n",
    "################################################################\n",
    "################################################################"
   ]
  },
  {
   "cell_type": "markdown",
   "metadata": {},
   "source": [
    "1 - Make a copy of this file in your repository to start practicing;\n",
    "\n",
    "2 - Study and review the theoretical content;\n",
    "\n",
    "3 -Read the theory and follow the Python script line by line and its comments (execute the cells with **shift + ENTER** or play button to the left of each command/code block), studying the structures, the parts of the algorithm and the proposed logic;\n",
    "\n",
    "4 - Execute, modify, test, and experiment with the content to the fullest to internalize the knowledge."
   ]
  },
  {
   "cell_type": "code",
   "execution_count": 121,
   "metadata": {
    "id": "WJ-AumFlVxgK"
   },
   "outputs": [],
   "source": [
    "from scipy import optimize\n",
    "import numpy as np\n",
    "import matplotlib.pyplot as plt\n",
    "%matplotlib inline\n",
    "\n",
    "from sklearn.datasets import make_blobs"
   ]
  },
  {
   "cell_type": "markdown",
   "metadata": {},
   "source": [
    "# 1 - Now, we have a set of points in 1-Dimension $\\mathcal{R}$"
   ]
  },
  {
   "cell_type": "code",
   "execution_count": 122,
   "metadata": {
    "id": "PaTiRFTkV2b5"
   },
   "outputs": [],
   "source": [
    "#Define the set of points\n",
    "D = [1,2,3,4,5,6,7]"
   ]
  },
  {
   "cell_type": "code",
   "execution_count": 123,
   "metadata": {
    "id": "KosdXyrBVxjV"
   },
   "outputs": [],
   "source": [
    "#Define functional for quantification of distances\n",
    "def f(x0, x):\n",
    "    tot = 0\n",
    "    for i in x:\n",
    "        tot += (i - x0)**2  #euclidean distance\n",
    "    return tot"
   ]
  },
  {
   "cell_type": "code",
   "execution_count": 124,
   "metadata": {
    "colab": {
     "base_uri": "https://localhost:8080/"
    },
    "id": "1tJdSO49Vxm0",
    "outputId": "3cbf7927-6e2d-4b62-f3f5-ad2f08cb186c"
   },
   "outputs": [
    {
     "name": "stdout",
     "output_type": "stream",
     "text": [
      "CPU times: total: 0 ns\n",
      "Wall time: 3 ms\n"
     ]
    },
    {
     "data": {
      "text/plain": [
       "  message: Optimization terminated successfully.\n",
       "  success: True\n",
       "   status: 0\n",
       "      fun: 28.0\n",
       "        x: [ 4.000e+00]\n",
       "      nit: 3\n",
       "      jac: [ 0.000e+00]\n",
       " hess_inv: [[ 7.143e-02]]\n",
       "     nfev: 8\n",
       "     njev: 4"
      ]
     },
     "execution_count": 124,
     "metadata": {},
     "output_type": "execute_result"
    }
   ],
   "source": [
    "#Use lib. scipy to find out minimum value\n",
    "%time optimize.minimize(f, x0 = 0, args = (D))"
   ]
  },
  {
   "cell_type": "markdown",
   "metadata": {
    "id": "q-TGFCAapfWB"
   },
   "source": [
    "# 2 - Now, we have a set of points in $\\mathcal{R}^2$"
   ]
  },
  {
   "cell_type": "code",
   "execution_count": 125,
   "metadata": {
    "colab": {
     "base_uri": "https://localhost:8080/",
     "height": 430
    },
    "id": "MI5gAlSZpexq",
    "outputId": "2321bc58-2585-4458-f726-c52a480491b7"
   },
   "outputs": [
    {
     "data": {
      "image/png": "[encoded data removed]",
      "text/plain": [
       "<Figure size 640x480 with 1 Axes>"
      ]
     },
     "metadata": {},
     "output_type": "display_data"
    }
   ],
   "source": [
    "#Create a dataset in 2 dimensions\n",
    "X, y = make_blobs(n_samples=10, centers=1, cluster_std=1.5, n_features=2, random_state=0)\n",
    "plt.scatter(X[:,0], X[:,1], marker='o' , c='red')\n",
    "for i in X:\n",
    "  plt.annotate(f'({i[0]:.1f},{i[1]:.1f})', (i[0], i[1]))\n"
   ]
  },
  {
   "cell_type": "code",
   "execution_count": 126,
   "metadata": {
    "colab": {
     "base_uri": "https://localhost:8080/"
    },
    "id": "d-E4ooFAwP15",
    "outputId": "22a2b741-6760-400b-a9fb-96f3d46b5f70"
   },
   "outputs": [
    {
     "data": {
      "text/plain": [
       "array([[ 2.11782667,  4.48629985],\n",
       "       [ 3.77760706,  2.83787051],\n",
       "       [-2.85321465,  5.28421522],\n",
       "       [ 1.64206493,  4.80429882],\n",
       "       [ 2.44437705,  7.66512713],\n",
       "       [ 1.44587163,  3.02264372],\n",
       "       [ 1.19233544,  6.48519759],\n",
       "       [ 3.21738869,  3.99604993],\n",
       "       [ 2.4014027 ,  4.07675152],\n",
       "       [ 0.8214418 ,  4.91968508]])"
      ]
     },
     "execution_count": 126,
     "metadata": {},
     "output_type": "execute_result"
    }
   ],
   "source": [
    "X"
   ]
  },
  {
   "cell_type": "code",
   "execution_count": 127,
   "metadata": {
    "id": "SxpAXpQGrH3V"
   },
   "outputs": [],
   "source": [
    "#Define functional for quantification of distances\n",
    "def f(x0, x):\n",
    "    #########################################################    \n",
    "    #                                                       #\n",
    "    ###########   YOUR CODE HERE   ##########################\n",
    "    #                                                       #\n",
    "    #########################################################\n",
    "    "
   ]
  },
  {
   "cell_type": "code",
   "execution_count": 128,
   "metadata": {
    "colab": {
     "base_uri": "https://localhost:8080/"
    },
    "id": "1wDojHynpeji",
    "outputId": "d91dc880-4942-490d-ea50-248f849aed9e"
   },
   "outputs": [
    {
     "name": "stdout",
     "output_type": "stream",
     "text": [
      "CPU times: total: 0 ns\n",
      "Wall time: 5 ms\n"
     ]
    },
    {
     "data": {
      "text/plain": [
       "  message: Optimization terminated successfully.\n",
       "  success: True\n",
       "   status: 0\n",
       "      fun: 49.16261637470623\n",
       "        x: [ 1.621e+00  4.758e+00]\n",
       "      nit: 4\n",
       "      jac: [ 2.861e-06  6.676e-06]\n",
       " hess_inv: [[ 9.010e-01 -2.903e-01]\n",
       "            [-2.903e-01  1.490e-01]]\n",
       "     nfev: 18\n",
       "     njev: 6"
      ]
     },
     "execution_count": 128,
     "metadata": {},
     "output_type": "execute_result"
    }
   ],
   "source": [
    "#Use lib. scipy to find out minimum value\n",
    "#########################################################    \n",
    "#                                                       #\n",
    "###########   YOUR CODE HERE   ##########################\n",
    "#                  1 row                               #\n",
    "#########################################################\n"
   ]
  },
  {
   "cell_type": "code",
   "execution_count": 129,
   "metadata": {
    "id": "65eXZHw9vK0h"
   },
   "outputs": [],
   "source": [
    "res_centroid = optimize.minimize(f, x0 = [0,0], args = (X))['x']"
   ]
  },
  {
   "cell_type": "code",
   "execution_count": 130,
   "metadata": {
    "colab": {
     "base_uri": "https://localhost:8080/",
     "height": 448
    },
    "id": "2anPa3BhvFfQ",
    "outputId": "0d960e77-6b18-4297-a9f6-e1c67250de82",
    "scrolled": true
   },
   "outputs": [
    {
     "data": {
      "text/plain": [
       "<Figure size 1200x800 with 0 Axes>"
      ]
     },
     "execution_count": 130,
     "metadata": {},
     "output_type": "execute_result"
    },
    {
     "data": {
      "text/plain": [
       "<Figure size 1200x800 with 0 Axes>"
      ]
     },
     "metadata": {},
     "output_type": "display_data"
    }
   ],
   "source": [
    "plt.figure(figsize = (12, 8))"
   ]
  },
  {
   "cell_type": "code",
   "execution_count": 131,
   "metadata": {},
   "outputs": [
    {
     "data": {
      "text/plain": [
       "Text(1.0707102774228363, 4.507814274017855, 'centroide')"
      ]
     },
     "execution_count": 131,
     "metadata": {},
     "output_type": "execute_result"
    },
    {
     "data": {
      "image/png": "[encoded data removed]",
      "text/plain": [
       "<Figure size 640x480 with 1 Axes>"
      ]
     },
     "metadata": {},
     "output_type": "display_data"
    }
   ],
   "source": [
    "plt.scatter(X[:,0], X[:,1], marker='o' , c='red')\n",
    "plt.plot(res_centroid[0], res_centroid[1], marker='X' , c='blue')\n",
    "plt.annotate('centroide' , (res_centroid[0]-0.55, res_centroid[1]- 0.25), )"
   ]
  },
  {
   "cell_type": "markdown",
   "metadata": {},
   "source": [
    "# 3- Check the theory"
   ]
  },
  {
   "cell_type": "code",
   "execution_count": 132,
   "metadata": {},
   "outputs": [
    {
     "name": "stdout",
     "output_type": "stream",
     "text": [
      "CPU times: total: 0 ns\n",
      "Wall time: 0 ns\n"
     ]
    },
    {
     "data": {
      "text/plain": [
       "(1.6207101327488147, 4.757813935873683)"
      ]
     },
     "execution_count": 132,
     "metadata": {},
     "output_type": "execute_result"
    }
   ],
   "source": [
    "%time X[:,0].mean(), X[:,1].mean()"
   ]
  },
  {
   "cell_type": "code",
   "execution_count": 133,
   "metadata": {},
   "outputs": [
    {
     "data": {
      "text/plain": [
       "array([1.62071028, 4.75781427])"
      ]
     },
     "execution_count": 133,
     "metadata": {},
     "output_type": "execute_result"
    }
   ],
   "source": [
    "res_centroid"
   ]
  },
  {
   "cell_type": "code",
   "execution_count": 134,
   "metadata": {},
   "outputs": [
    {
     "data": {
      "text/plain": [
       "array([-1.e-07, -3.e-07])"
      ]
     },
     "execution_count": 134,
     "metadata": {},
     "output_type": "execute_result"
    }
   ],
   "source": [
    "np.round(np.asarray([X[:,0].mean(), X[:,1].mean()]) - res_centroid, 7)"
   ]
  },
  {
   "cell_type": "code",
   "execution_count": null,
   "metadata": {},
   "outputs": [],
   "source": []
  }
 ],
 "metadata": {
  "colab": {
   "provenance": []
  },
  "kernelspec": {
   "display_name": "Python 3 (ipykernel)",
   "language": "python",
   "name": "python3"
  },
  "language_info": {
   "codemirror_mode": {
    "name": "ipython",
    "version": 3
   },
   "file_extension": ".py",
   "mimetype": "text/x-python",
   "name": "python",
   "nbconvert_exporter": "python",
   "pygments_lexer": "ipython3",
   "version": "3.11.5"
  }
 },
 "nbformat": 4,
 "nbformat_minor": 1
}
