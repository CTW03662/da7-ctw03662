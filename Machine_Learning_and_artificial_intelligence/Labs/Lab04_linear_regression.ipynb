{
 "cells": [
  {
   "cell_type": "code",
   "execution_count": null,
   "metadata": {
    "id": "0L6jAL-rRbQk"
   },
   "outputs": [],
   "source": [
    "################################################################\n",
    "################################################################\n",
    "#Company: Critical Techworks (CTW)\n",
    "#Course: 7th. Data Academy lisbon - PT\n",
    "#Module: Machine Learning & Artificial Intelligence\n",
    "#Author: Carlos Fernando Arraz | Date: May 16th, 2024\n",
    "#Lab 4: Linear regression\n",
    "################################################################\n",
    "################################################################"
   ]
  },
  {
   "cell_type": "markdown",
   "metadata": {
    "id": "RzKZkwF3IPS9"
   },
   "source": [
    "---\n",
    "\n",
    "**INSTRUCTIONS:**\n",
    "\n",
    "---\n",
    "\n",
    "1 - Make a copy of this file in your repository to start practicing;\n",
    "\n",
    "2 - Study and review the theoretical content;\n",
    "\n",
    "3 -Read the theory and follow the Python script line by line and its comments (execute the cells with **shift + ENTER** or play button to the left of each command/code block), studying the structures, the parts of the algorithm and the proposed logic;\n",
    "\n",
    "4 - Execute, modify, test, and experiment with the content to the fullest to internalize the knowledge.\n"
   ]
  },
  {
   "cell_type": "markdown",
   "metadata": {
    "id": "pumfVRjiQ4B5"
   },
   "source": [
    "This practice script contains a sequence of Python code blocks 🐍 that apply theoretical knowledge about simple linear regression. The main objective is to continue understanding each part of the linear regression model and apply the knowledge already acquired in practice. Next, we will add other concepts of evaluating model goodness-of-fit and inference involving linear regression.\n",
    "\n"
   ]
  },
  {
   "cell_type": "markdown",
   "metadata": {
    "id": "aEfm86da54Zn"
   },
   "source": [
    "**Content:** \n",
    "\n",
    "We divide this learning into **2 parts**.\n",
    "In **part I** (here you do it!), we will have a group of tasks with the practical application of a simple linear regression to evaluate the adjustment quality using the coefficient $R^2$. In **part II** (here we have a guided itinerary!), we will see the rationale for calculating the coefficients $\\beta_0$ and $\\beta_1$ under the inference aspects, where we will understand the interval estimation of the model parameters. For all of this, we will use Python 🐍 and its libraries. Let's go !!!"
   ]
  },
  {
   "cell_type": "markdown",
   "metadata": {
    "id": "TMX0wtmR6USi"
   },
   "source": [
    "## Parte I: Linear regression model and quality adjustment $R^2$ "
   ]
  },
  {
   "cell_type": "code",
   "execution_count": null,
   "metadata": {
    "id": "4moRb7Z9jpld"
   },
   "outputs": [],
   "source": [
    "#Load python libraries\n",
    "import pandas as pd\n",
    "import matplotlib.pyplot as plt\n",
    "import numpy as np\n",
    "import seaborn as sns\n",
    "import numpy as np\n",
    "import scipy"
   ]
  },
  {
   "cell_type": "code",
   "execution_count": null,
   "metadata": {},
   "outputs": [],
   "source": [
    "web = 'https://en.wikipedia.org/wiki/Forbes_list_of_the_most_valuable_NBA_clubs'\n",
    "df = pd.read_html(web)\n",
    "\n",
    "print(f'Total tables: {len(df)}')"
   ]
  },
  {
   "cell_type": "code",
   "execution_count": null,
   "metadata": {},
   "outputs": [],
   "source": [
    "df[1]"
   ]
  },
  {
   "cell_type": "code",
   "execution_count": null,
   "metadata": {},
   "outputs": [],
   "source": [
    "df[1].columns"
   ]
  },
  {
   "cell_type": "code",
   "execution_count": null,
   "metadata": {},
   "outputs": [],
   "source": [
    "df[1]['Value[b]'] = df[1]['Value[b]'].apply(lambda x: x.split(' ')[0][1:])\n",
    "df[1]['Value[b]'] = pd.to_numeric(df[1]['Value[b]'])\n",
    "df[1]['Value[b]']"
   ]
  },
  {
   "cell_type": "code",
   "execution_count": null,
   "metadata": {},
   "outputs": [],
   "source": [
    "df[1]['Revenue[e]'] = df[1]['Revenue[e]'].apply(lambda x: x.split(' ')[0][1:])\n",
    "df[1]['Revenue[e]'] = pd.to_numeric(df[1]['Revenue[e]'])\n",
    "df[1]['Revenue[e]']"
   ]
  },
  {
   "cell_type": "code",
   "execution_count": null,
   "metadata": {},
   "outputs": [],
   "source": [
    "df = df[1];df"
   ]
  },
  {
   "cell_type": "code",
   "execution_count": null,
   "metadata": {},
   "outputs": [],
   "source": [
    "df.to_csv(\"nba_revenue_valuation.csv\", encoding='utf-8', index=False, header = True)"
   ]
  },
  {
   "cell_type": "code",
   "execution_count": null,
   "metadata": {},
   "outputs": [],
   "source": [
    "#Carregar base de dados que criamos da web\n",
    "\n",
    "#Load dataset from repo\n",
    "#df = pd.read_csv(r\"C:\\Users\\CTW03366\\Desktop\\Estatística Aplicada a Data Science\\Escrita de conteúdo\\UA7\\base_de_dados\\nba_revenue_valuation.csv\", \n",
    "#                 encoding='latin-1',\n",
    "#                header=1,\n",
    "#                 sep=';')\n",
    "\n",
    "#df = pd.read_csv('nba_revenue_valuation.csv', encoding='latin-1', sep=';')\n",
    "\n",
    "#df.head()"
   ]
  },
  {
   "cell_type": "code",
   "execution_count": null,
   "metadata": {},
   "outputs": [],
   "source": [
    "#Start here if could not ETL preprocessing\n",
    "\n",
    "df = pd.read_csv(r\"C:\\Users\\CTW03366\\OneDrive - Critical Techworks\\CTW\\nba_revenue_valuation.csv\",  header = 0 )\n",
    "df.head()"
   ]
  },
  {
   "cell_type": "code",
   "execution_count": null,
   "metadata": {},
   "outputs": [],
   "source": [
    "#Select important columns\n",
    "df = df[['Team',  'Revenue[e]' , 'Value[b]' ]]"
   ]
  },
  {
   "cell_type": "code",
   "execution_count": null,
   "metadata": {},
   "outputs": [],
   "source": [
    "df.head()"
   ]
  },
  {
   "cell_type": "code",
   "execution_count": null,
   "metadata": {},
   "outputs": [],
   "source": [
    "#Rename columns with x and y\n",
    "df = df.rename({'Revenue[e]': 'x', 'Value[b]': 'y'}, axis='columns')"
   ]
  },
  {
   "cell_type": "code",
   "execution_count": null,
   "metadata": {},
   "outputs": [],
   "source": [
    "df.columns"
   ]
  },
  {
   "cell_type": "code",
   "execution_count": null,
   "metadata": {},
   "outputs": [],
   "source": [
    "df.iloc[:, 1:3] = df.iloc[:,1:3].applymap(lambda x: np.array(x).astype('float'))"
   ]
  },
  {
   "cell_type": "code",
   "execution_count": null,
   "metadata": {},
   "outputs": [],
   "source": [
    "df.head()"
   ]
  },
  {
   "cell_type": "code",
   "execution_count": null,
   "metadata": {},
   "outputs": [],
   "source": [
    "df.x = df.x/1000  #Transform all in billion"
   ]
  },
  {
   "cell_type": "code",
   "execution_count": null,
   "metadata": {},
   "outputs": [],
   "source": [
    "#Put depent and indepent feature in variables \n",
    "x = df.x; y = df.y"
   ]
  },
  {
   "cell_type": "code",
   "execution_count": null,
   "metadata": {},
   "outputs": [],
   "source": [
    "#See first rows\n",
    "df.head()"
   ]
  },
  {
   "cell_type": "code",
   "execution_count": null,
   "metadata": {
    "colab": {
     "base_uri": "https://localhost:8080/",
     "height": 744
    },
    "executionInfo": {
     "elapsed": 914,
     "status": "ok",
     "timestamp": 1690463451954,
     "user": {
      "displayName": "Fernando Arraz",
      "userId": "05056971633190856577"
     },
     "user_tz": 180
    },
    "id": "MrMb6nWeTAt6",
    "outputId": "7f6f125f-256e-4a3c-bdec-19487c96b558"
   },
   "outputs": [],
   "source": [
    "#Plot Scatterplot Revenues x Team Value NBA 2023\n",
    "sns.set_theme(style=\"white\")\n",
    "plt.figure (figsize=(12, 8))\n",
    "\n",
    "ax = sns.scatterplot(df, x='x', y='y',\n",
    "                alpha=.55,\n",
    "                size='y',\n",
    "                #sizes=(df.y.min(), df.y.max()/df.y.min()*10),\n",
    "                color = 'red'\n",
    "                )\n",
    "\n",
    "plt.setp(ax.get_legend().get_texts(), fontsize='12') \n",
    "plt.setp(ax.get_legend().get_title(), fontsize='12') \n",
    "\n",
    "plt.title('Scatterplot Revenues x Team Value NBA 2023')\n",
    "plt.ylabel('y - Revenues (US$ Bilhões)')\n",
    "plt.xlabel('x - Team NBA value (US$ Bilhões)')"
   ]
  },
  {
   "cell_type": "code",
   "execution_count": null,
   "metadata": {
    "id": "4LjETavrkqsW"
   },
   "outputs": [],
   "source": [
    "#Define from scratch correlation function\n",
    "def correlacao(x, y):\n",
    "    x1 = (x - np.mean(x))\n",
    "    y1 = (y - np.mean(y))\n",
    "\n",
    "    numerador = np.sum(x1*y1)\n",
    "    div = np.sqrt(np.sum(x1**2) * np.sum(y1**2))\n",
    "    return numerador/div"
   ]
  },
  {
   "cell_type": "code",
   "execution_count": null,
   "metadata": {
    "id": "hqGoOabBn-Es"
   },
   "outputs": [],
   "source": [
    "#Create class to train linear Regression \n",
    "class MinhaRegLinear():\n",
    "    def __init__(self):\n",
    "        self.b0 = 0\n",
    "        self.b1 = 0\n",
    "\n",
    "    def fit(self, x, y):\n",
    "        #########################################################    \n",
    "        #                                                       #\n",
    "        ###########   YOUR CODE HERE   ##########################\n",
    "        #                  2 rows                                #\n",
    "        #########################################################\n",
    "      \n",
    "\n",
    "    def predict(self, x):\n",
    "        #########################################################    \n",
    "        #                                                       #\n",
    "        ###########   YOUR CODE HERE   ##########################\n",
    "        #                  1 row                                #\n",
    "        #########################################################\n",
    "        return "
   ]
  },
  {
   "cell_type": "code",
   "execution_count": null,
   "metadata": {
    "id": "JdgjySBmfe7t"
   },
   "outputs": [],
   "source": [
    "#Separar features e target\n",
    "x = df.x; y = df.y"
   ]
  },
  {
   "cell_type": "code",
   "execution_count": null,
   "metadata": {
    "colab": {
     "base_uri": "https://localhost:8080/",
     "height": 875
    },
    "executionInfo": {
     "elapsed": 1216,
     "status": "ok",
     "timestamp": 1690463456553,
     "user": {
      "displayName": "Fernando Arraz",
      "userId": "05056971633190856577"
     },
     "user_tz": 180
    },
    "id": "e7O-gSxfosCx",
    "outputId": "e6f897be-861c-4ce2-cf60-b33018a398a3"
   },
   "outputs": [],
   "source": [
    "#Inicialize object MinhaRegLinear previous created\n",
    "reg = MinhaRegLinear()\n",
    "\n",
    "#Fit data\n",
    "reg.fit(x, y)\n",
    "\n",
    "#Plot coeffcients values\n",
    "print('b0: {} b1: {}'.format(reg.b0, reg.b1))\n",
    "\n",
    "#Plota results\n",
    "plt.figure(figsize=(12,10))\n",
    "plt.scatter(x, y, s=12, color='red')\n",
    "plt.plot(x, reg.predict(x), c='red', label='y = {:.3f}x + {:.3f}'.format(reg.b1, reg.b0) )\n",
    "plt.title('Scatterplot Revenues x Team Value NBA 2023')\n",
    "plt.ylabel('y - Revenues (US$ Bilhões)')\n",
    "plt.xlabel('x - Team NBA value (US$ Bilhões)')\n",
    "plt.legend()\n",
    "for index in range(len(x)):\n",
    "    plt.text(x[index], y[index], df.Team[index], size=5)"
   ]
  },
  {
   "cell_type": "markdown",
   "metadata": {
    "id": "XJ__EtZ_flfO"
   },
   "source": [
    "**Task 1:**\n",
    "Usando agora a teoria vista na apresentação, calcular o $R^2 = 1 - \\frac{RSS}{TSS}$"
   ]
  },
  {
   "cell_type": "code",
   "execution_count": null,
   "metadata": {
    "colab": {
     "base_uri": "https://localhost:8080/"
    },
    "executionInfo": {
     "elapsed": 537,
     "status": "ok",
     "timestamp": 1690463665562,
     "user": {
      "displayName": "Fernando Arraz",
      "userId": "05056971633190856577"
     },
     "user_tz": 180
    },
    "id": "KLsk4VfcPay2",
    "outputId": "ac2a405b-f2a5-4326-f9fd-783167e9d0aa"
   },
   "outputs": [],
   "source": [
    "#First, we need compute predicts values (y_hat) - Way 1\n",
    "#########################################################    \n",
    "#                                                       #\n",
    "###########   YOUR CODE HERE   ##########################\n",
    "#                  1 row                                #\n",
    "#########################################################\n",
    "y_hat = "
   ]
  },
  {
   "cell_type": "code",
   "execution_count": null,
   "metadata": {},
   "outputs": [],
   "source": [
    "#First, we need compute predicts values (y_hat) - Way 2\n",
    "#########################################################    \n",
    "#                                                       #\n",
    "###########   YOUR CODE HERE   ##########################\n",
    "#                  1 row                               #\n",
    "#########################################################\n",
    "y_hat = "
   ]
  },
  {
   "cell_type": "code",
   "execution_count": null,
   "metadata": {
    "id": "1J6TDqUBPVjt"
   },
   "outputs": [],
   "source": [
    "#Compute RSS\n",
    "#########################################################    \n",
    "#                                                       #\n",
    "###########   YOUR CODE HERE   ##########################\n",
    "#                  1 row                               #\n",
    "#########################################################\n",
    "RSS = "
   ]
  },
  {
   "cell_type": "code",
   "execution_count": null,
   "metadata": {
    "id": "u35mb3lvPVge"
   },
   "outputs": [],
   "source": [
    "#Compute TSS\n",
    "#########################################################    \n",
    "#                                                       #\n",
    "###########   YOUR CODE HERE   ##########################\n",
    "#                  1 row                               #\n",
    "#########################################################\n",
    "TSS ="
   ]
  },
  {
   "cell_type": "code",
   "execution_count": null,
   "metadata": {
    "colab": {
     "base_uri": "https://localhost:8080/"
    },
    "executionInfo": {
     "elapsed": 277,
     "status": "ok",
     "timestamp": 1690463674837,
     "user": {
      "displayName": "Fernando Arraz",
      "userId": "05056971633190856577"
     },
     "user_tz": 180
    },
    "id": "qdCzAu5_PVXe",
    "outputId": "f7d0ea33-5da1-4cbe-a4e4-cf8d7a652054"
   },
   "outputs": [],
   "source": [
    "#Computer o R2\n",
    "#########################################################    \n",
    "#                                                       #\n",
    "###########   YOUR CODE HERE   ##########################\n",
    "#                  1 row                               #\n",
    "#########################################################\n",
    "R2 = "
   ]
  },
  {
   "cell_type": "markdown",
   "metadata": {
    "id": "e_Imq8erf55w"
   },
   "source": [
    "**Task 2:**\n",
    "Apply linear regression with the Scikit-Learn library and through the **score** method (https://scikit-learn.org/stable/modules/generated/sklearn.linear_model.LinearRegression.html#sklearn.linear_model.LinearRegression) compare the results obtained."
   ]
  },
  {
   "cell_type": "code",
   "execution_count": null,
   "metadata": {
    "id": "maAC2Vmjx2uY"
   },
   "outputs": [],
   "source": [
    "#Adjust the x and y dimensions to meet libr. requirements. Scikit-Learn\n",
    "x = np.array(df.x).reshape(-1,1)\n",
    "y = np.array(df.y).reshape(-1,1)"
   ]
  },
  {
   "cell_type": "code",
   "execution_count": null,
   "metadata": {
    "colab": {
     "base_uri": "https://localhost:8080/",
     "height": 875
    },
    "executionInfo": {
     "elapsed": 902,
     "status": "ok",
     "timestamp": 1690463709552,
     "user": {
      "displayName": "Fernando Arraz",
      "userId": "05056971633190856577"
     },
     "user_tz": 180
    },
    "id": "N_f_GqWlo3Ga",
    "outputId": "7f06a4c2-3c1a-4180-9593-dbfce8961491"
   },
   "outputs": [],
   "source": [
    "#Comparison with the Bible method. Scikit-learn\n",
    "from sklearn.linear_model import LinearRegression\n",
    "\n",
    "#Instantiate the Scikit-learn LinearRegression object\n",
    "reg = LinearRegression()\n",
    "reg.fit(x, y)\n",
    "\n",
    "#Plot the results\n",
    "print('b0: {} b1: {}'.format(reg.intercept_, reg.coef_))\n",
    "\n",
    "#Plot \n",
    "plt.figure(figsize=(12,10))\n",
    "plt.scatter(x, y, s=12, color='red')\n",
    "plt.plot(x, reg.predict(x), c='red',  )\n",
    "plt.title('Scatterplot Revenues x Team Value NBA 2023')\n",
    "plt.ylabel('y - Revenues (US$ Bilhões)')\n",
    "plt.xlabel('x - Team NBA value (US$ Bilhões)')\n",
    "# plt.legend()\n",
    "for index in range(len(x)):\n",
    "    plt.text(x[index], y[index], df.Team[index], size=5)"
   ]
  },
  {
   "cell_type": "code",
   "execution_count": null,
   "metadata": {
    "colab": {
     "base_uri": "https://localhost:8080/"
    },
    "executionInfo": {
     "elapsed": 298,
     "status": "ok",
     "timestamp": 1690463722171,
     "user": {
      "displayName": "Fernando Arraz",
      "userId": "05056971633190856577"
     },
     "user_tz": 180
    },
    "id": "4iaEa9D1biNC",
    "outputId": "15cf8a00-b41a-4fa9-a604-1ff0c336cdb8"
   },
   "outputs": [],
   "source": [
    "#Show the both results as MinhaRegLinear() as LinearRegression from Scikit-Learn\n",
    "print(f\"O coef. de determinação pelo Scikit-Learn {reg.score(x, y)};\\n\\\n",
    "O coef. de determinação calculado à mão é {R2}\"\n",
    ")"
   ]
  },
  {
   "cell_type": "markdown",
   "metadata": {
    "id": "hyOA55Iq989q"
   },
   "source": [
    "## Part II (Extra): Interval estimation of simple linear regression parameters.\n"
   ]
  },
  {
   "cell_type": "markdown",
   "metadata": {
    "id": "Fmrl4B64MQH8"
   },
   "source": [
    "**Sample Distributions of Parameter Estimators**\n",
    "\n",
    "To make inferences about the regression parameters, we need to know the probability distribution of the populations studied, which, in general, we consider from the outset as populations with normal distributions.\n",
    "\n",
    "Just as is done to construct confidence intervals for mean and proportion, we can do the same for regression coefficient estimators, simply use an appropriate statistic to define a critical value and the associated standard error. We will use references [1][2] as a basis, which address the topic clearly and succinctly and can be consulted for more details."
   ]
  },
  {
   "cell_type": "markdown",
   "metadata": {
    "id": "JjVwLiK6jBhZ"
   },
   "source": [
    "**A little theory:**\n",
    "\n",
    "We already know that $\\beta_0$ and $\\beta_1$ are unknown parameters, as we do not have the entire population to carry out the calculations. On the other hand, we have enough statistical tools to be able to obtain a point estimate of $\\beta_0$ and $\\beta_1$, which is exactly what we did in **Part I** of this script, including evaluating the model fit through $R^2$.\n",
    "\n",
    "**However, a question arises: what is the level of confidence that we are right regarding the calculations obtained that led us to the estimates $\\hat \\beta_0$ and $\\hat \\beta_1$?**\n",
    "\n",
    "Based on the knowledge seen so far, let's now discover together how to interpret the results. Let's start by remembering an important result: using the Central Limit Theorem (CLT), we know that the mean of the random variable $\\bar Y$ has a standard error $(SE)$ given by:\n",
    "\n",
    "$$\n",
    "SE(\\bar Y) = \\frac{\\sigma}{\\sqrt n}\n",
    "$$\n",
    "\n",
    "where $\\sigma$ is the standard deviation of each $y_i \\in Y$ and $n$ the number of observations."
   ]
  },
  {
   "cell_type": "markdown",
   "metadata": {
    "id": "lvb1UIgvA3qD"
   },
   "source": [
    "Similarly, we want to evaluate the standard error committed when estimating $\\beta_0$ and $\\beta_1$, which is given by:"
   ]
  },
  {
   "cell_type": "markdown",
   "metadata": {
    "id": "OcIWELDiGR63"
   },
   "source": [
    "![image.png](data:image/png;base64,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)"
   ]
  },
  {
   "cell_type": "markdown",
   "metadata": {
    "id": "w58SY_lTG7GU"
   },
   "source": [
    "Also, in a similar way, we can calculate the standard error for $\\hat \\beta_0$ and $\\hat \\beta_1$, and, therefore, establish the confidence interval, according to the following expressions [1][2]:"
   ]
  },
  {
   "attachments": {
    "image.png": {
     "image/png": "[encoded data removed]"
    }
   },
   "cell_type": "markdown",
   "metadata": {},
   "source": [
    "![image.png](attachment:image.png)"
   ]
  },
  {
   "cell_type": "markdown",
   "metadata": {},
   "source": [
    "So, the Confidence intervals, are:"
   ]
  },
  {
   "attachments": {
    "image-2.png": {
     "image/png": "[encoded data removed]"
    }
   },
   "cell_type": "markdown",
   "metadata": {},
   "source": [
    "![image-2.png](attachment:image-2.png)"
   ]
  },
  {
   "attachments": {
    "image.png": {
     "image/png": "[encoded data removed]"
    }
   },
   "cell_type": "markdown",
   "metadata": {},
   "source": [
    "![image.png](attachment:image.png)"
   ]
  },
  {
   "cell_type": "markdown",
   "metadata": {
    "id": "ZoPkJVy6MRpT"
   },
   "source": [
    "In this way, we can apply the concepts of hypothesis testing to test the statistical significance of each of the estimated coefficients for the regression model (see more details in [1][2]).\n",
    "\n",
    "In practice, we will have a result by evaluating the p-value. In general, a p-value with values below 0.05 indicates that the estimated value of the coefficient by the model is consistent (at a 95% confidence level). That is, we want to test how $\\hat \\beta_0 \\neq 0$ and $\\hat \\beta_1 \\neq 0$ for a certain confidence level."
   ]
  },
  {
   "cell_type": "markdown",
   "metadata": {
    "id": "-YwPdSNePFLo"
   },
   "source": [
    "**Using the statsmodels library**\n",
    "\n",
    "Let us now evaluate the value of the coefficients for their statistical significance. Let's go!"
   ]
  },
  {
   "cell_type": "code",
   "execution_count": null,
   "metadata": {
    "id": "Nlf8rpOeFBOT"
   },
   "outputs": [],
   "source": [
    "#Load statit. library\n",
    "import statsmodels.formula.api as sm"
   ]
  },
  {
   "cell_type": "code",
   "execution_count": null,
   "metadata": {
    "id": "gUjQuNCnVD3D"
   },
   "outputs": [],
   "source": [
    "#Pay attention only to an important features\n",
    "df1 = df.drop(columns = ['Team'])"
   ]
  },
  {
   "cell_type": "code",
   "execution_count": null,
   "metadata": {
    "id": "LZF1P4csWQcc"
   },
   "outputs": [],
   "source": [
    "#Put data in numeric dtype\n",
    "df1.x = pd.to_numeric(df1.x)\n",
    "df1.y = pd.to_numeric(df1.y)"
   ]
  },
  {
   "cell_type": "code",
   "execution_count": null,
   "metadata": {},
   "outputs": [],
   "source": [
    "df1.head()"
   ]
  },
  {
   "cell_type": "code",
   "execution_count": null,
   "metadata": {
    "id": "fGjIi-VoFaEN"
   },
   "outputs": [],
   "source": [
    "#Fit data\n",
    "results = sm.ols(\"y~x\" , data=df1).fit()"
   ]
  },
  {
   "cell_type": "code",
   "execution_count": null,
   "metadata": {
    "colab": {
     "base_uri": "https://localhost:8080/"
    },
    "executionInfo": {
     "elapsed": 280,
     "status": "ok",
     "timestamp": 1690293967553,
     "user": {
      "displayName": "Fernando Arraz",
      "userId": "05056971633190856577"
     },
     "user_tz": 180
    },
    "id": "ORBW8LiTFf0t",
    "outputId": "6c5778ef-9dac-42af-e28a-b4218975038f"
   },
   "outputs": [],
   "source": [
    "#Check results\n",
    "print(results.summary())"
   ]
  },
  {
   "attachments": {
    "image.png": {
     "image/png": "[encoded data removed]"
    }
   },
   "cell_type": "markdown",
   "metadata": {
    "id": "Wl9QFX11AVhI"
   },
   "source": [
    "Let’s now look at the highlighted parts of the results obtained. For this purpose, we made a box with red borders to help with identification.\n",
    "\n",
    "![image.png](attachment:image.png)\n"
   ]
  },
  {
   "cell_type": "markdown",
   "metadata": {
    "id": "Zogv5SAMtyGo"
   },
   "source": [
    "**Task 3:**\n",
    "\n",
    "Plot the graph using the Seaborn library and the regplot method. Reflect and take notes on the results presented in this graph."
   ]
  },
  {
   "cell_type": "code",
   "execution_count": null,
   "metadata": {
    "colab": {
     "base_uri": "https://localhost:8080/",
     "height": 451
    },
    "executionInfo": {
     "elapsed": 1001,
     "status": "ok",
     "timestamp": 1690463764232,
     "user": {
      "displayName": "Fernando Arraz",
      "userId": "05056971633190856577"
     },
     "user_tz": 180
    },
    "id": "gL9Un26Nt8fJ",
    "outputId": "3e1e6f96-7f47-4658-f758-9f066e4fb817"
   },
   "outputs": [],
   "source": [
    "#Check the plot\n",
    "p= sns.regplot(x=x.astype(float), y=y.astype(float), )\n",
    "\n",
    "#calculate slope and intercept of regression equation\n",
    "slope, intercept, r, p, sterr = scipy.stats.linregress(x=p.get_lines()[0].get_xdata(),\n",
    "                                                       y=p.get_lines()[0].get_ydata())\n",
    "\n",
    "#add regression equation to plot\n",
    "plt.text(0.6,13, 'y = ' + str(round(intercept,3)) + ' + ' + str(round(slope,3)) + 'x')"
   ]
  },
  {
   "cell_type": "markdown",
   "metadata": {
    "id": "GtVuwSbEKoDc"
   },
   "source": [
    "**Initial conclusions:** In the graph above, where there is a greater density of observations, we have an interval estimate that differs from the region where we have fewer observations."
   ]
  },
  {
   "cell_type": "markdown",
   "metadata": {
    "id": "Y4bHaL4BAegB"
   },
   "source": [
    "**Step by step for interpreting results**\n",
    "\n",
    "**1st - Identify the results:**\n",
    "\n",
    "Looking at the image above, we can see the $R^2$ and the coefficient estimates $\\beta_0$ and $\\beta_1$ with their respective p-values 0.05 and 0.00.\n",
    "\n",
    "**2nd - Evaluate each of the values:**\n",
    "\n",
    "Based on the p-value of the coefficients, we would say that $\\beta_0$ and $\\beta_1$ have statistical significance and that the value of the variable $X$ can explain $Y$ by approximately 60% (not bad 😀, but not good!!).\n",
    "\n",
    "**NOTE:** We have other measures and indices on that image, but we will not explore them here. For more details, consult the references [1][2]."
   ]
  },
  {
   "cell_type": "markdown",
   "metadata": {
    "id": "hJ1czKx4fvH8"
   },
   "source": [
    "**Referências:**\n",
    "\n",
    "[1] Gareth  James,  Daniela  Witten,  Trevor  Hastie  and  Robert  Tibshirani, “An  Introduction  to Statistical Learning, with Applications in R”, Springer Texts in Statistics, Springer, 2013.\n",
    "\n",
    "[2] MORETTIN, Pedro A.; BUSSAB, Wilton O. Estatística básica. Saraiva Educação SA, 2017.\n",
    "\n",
    "[3] VANDERPLAS, Jake. Python data science handbook: Essential tools for working with data. \" O'Reilly Media, Inc.\", 2016.\n"
   ]
  }
 ],
 "metadata": {
  "colab": {
   "provenance": []
  },
  "kernelspec": {
   "display_name": "Python 3 (ipykernel)",
   "language": "python",
   "name": "python3"
  },
  "language_info": {
   "codemirror_mode": {
    "name": "ipython",
    "version": 3
   },
   "file_extension": ".py",
   "mimetype": "text/x-python",
   "name": "python",
   "nbconvert_exporter": "python",
   "pygments_lexer": "ipython3",
   "version": "3.11.5"
  }
 },
 "nbformat": 4,
 "nbformat_minor": 1
}
