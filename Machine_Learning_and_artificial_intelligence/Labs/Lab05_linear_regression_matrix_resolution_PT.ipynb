{
 "cells": [
  {
   "cell_type": "code",
   "execution_count": 211,
   "metadata": {
    "id": "0L6jAL-rRbQk"
   },
   "outputs": [],
   "source": [
    "################################################################\n",
    "################################################################\n",
    "#Company: Critical Techworks (CTW)\n",
    "#Course: 7th. Data Academy lisbon - PT\n",
    "#Module: Machine Learning & Artificial Intelligence\n",
    "#Author: Carlos Fernando Arraz | Date: May 16th, 2024\n",
    "#Lab 5: Linear Regression \n",
    "################################################################"
   ]
  },
  {
   "cell_type": "markdown",
   "metadata": {
    "id": "HHOMMab6WxsL"
   },
   "source": [
    "---\n",
    "\n",
    "**INSTRUCTIONS:**\n",
    "\n",
    "---\n",
    "\n",
    "1 - Make a copy of this file in your repository to start practicing;\n",
    "\n",
    "2 - Study and review the theoretical content (highlighted: concepts of probability, Bayes' theorem, conditional probability, and joint probability);\n",
    "\n",
    "3 -Read the theory and follow the Python script line by line and its comments (execute the cells with **shift + ENTER** or play button to the left of each command/code block), studying the structures, the parts of the algorithm and the proposed logic;\n",
    "\n",
    "4 - Execute, modify, test, and experiment with the content to the fullest to internalize the knowledge."
   ]
  },
  {
   "cell_type": "markdown",
   "metadata": {
    "id": "pumfVRjiQ4B5"
   },
   "source": [
    "Este roteiro de prática guiada contém uma sequência de blocos de código em Python 🐍 que aplica os conhecimentos teóricos sobre regressão linear simples e múltipla. Em seguida, iremos comparar com os resultados de bibliotecas consagradas do Python, a exemplo da Scikit-Learn, SciPy e Statsmodels.\n",
    "\n"
   ]
  },
  {
   "cell_type": "markdown",
   "metadata": {
    "id": "aEfm86da54Zn"
   },
   "source": [
    "**Orientações:**\n",
    "\n",
    "Este roteiro de prática está dividivo em **3 partes**:\n",
    "Na **parte I**, carregar dados e aplicar reg. linear usando a biblioteca Scikit-Learn. Na **parte II**, veremos como obter os coeficientes $\\beta_0$ e $\\beta_1$ através do uso da teoria das pseudoinversas (teoria das matrizes inversas generalizadas). E por fim, na **Parte III**, iremos estender o conceitos para modelos de regressão linear com 2 ou mais variáveis e aplicar algus dos conceitos vistos usando bibliotecas Python 🐍 consagradas no tema em estudo."
   ]
  },
  {
   "cell_type": "markdown",
   "metadata": {
    "id": "TMX0wtmR6USi"
   },
   "source": [
    "**Parte I**: Carregar base de dados do Lab 4 e aplicar o modelo de regressão linear com 1 variável no scikit-learn."
   ]
  },
  {
   "cell_type": "code",
   "execution_count": 255,
   "metadata": {
    "id": "4moRb7Z9jpld"
   },
   "outputs": [],
   "source": [
    "#Importar as bibliotecas python\n",
    "import pandas as pd\n",
    "import matplotlib.pyplot as plt\n",
    "import numpy as np\n",
    "import seaborn as sns\n",
    "import numpy as np"
   ]
  },
  {
   "cell_type": "code",
   "execution_count": 256,
   "metadata": {
    "colab": {
     "base_uri": "https://localhost:8080/",
     "height": 206
    },
    "executionInfo": {
     "elapsed": 4,
     "status": "ok",
     "timestamp": 1690462602527,
     "user": {
      "displayName": "Fernando Arraz",
      "userId": "05056971633190856577"
     },
     "user_tz": 180
    },
    "id": "2mIzKjaVjxVp",
    "outputId": "64d837fd-08fb-4a20-cf4c-b1a182995597"
   },
   "outputs": [
    {
     "data": {
      "text/html": [
       "<div>\n",
       "<style scoped>\n",
       "    .dataframe tbody tr th:only-of-type {\n",
       "        vertical-align: middle;\n",
       "    }\n",
       "\n",
       "    .dataframe tbody tr th {\n",
       "        vertical-align: top;\n",
       "    }\n",
       "\n",
       "    .dataframe thead th {\n",
       "        text-align: right;\n",
       "    }\n",
       "</style>\n",
       "<table border=\"1\" class=\"dataframe\">\n",
       "  <thead>\n",
       "    <tr style=\"text-align: right;\">\n",
       "      <th></th>\n",
       "      <th>Rank</th>\n",
       "      <th>Swing[a]</th>\n",
       "      <th>Team</th>\n",
       "      <th>Territory</th>\n",
       "      <th>Value[b]</th>\n",
       "      <th>Change[c]</th>\n",
       "      <th>Debt[d]</th>\n",
       "      <th>Revenue[e]</th>\n",
       "      <th>Operating Income[f]</th>\n",
       "    </tr>\n",
       "  </thead>\n",
       "  <tbody>\n",
       "    <tr>\n",
       "      <th>0</th>\n",
       "      <td>1</td>\n",
       "      <td>2.0</td>\n",
       "      <td>Golden State Warriors</td>\n",
       "      <td>California</td>\n",
       "      <td>7.70</td>\n",
       "      <td>100%</td>\n",
       "      <td>16%</td>\n",
       "      <td>765</td>\n",
       "      <td>$206 million</td>\n",
       "    </tr>\n",
       "    <tr>\n",
       "      <th>1</th>\n",
       "      <td>2</td>\n",
       "      <td>1.0</td>\n",
       "      <td>New York Knicks</td>\n",
       "      <td>New York</td>\n",
       "      <td>6.60</td>\n",
       "      <td>52.5%</td>\n",
       "      <td>4%</td>\n",
       "      <td>452</td>\n",
       "      <td>$155 million</td>\n",
       "    </tr>\n",
       "    <tr>\n",
       "      <th>2</th>\n",
       "      <td>3</td>\n",
       "      <td>1.0</td>\n",
       "      <td>Los Angeles Lakers</td>\n",
       "      <td>California</td>\n",
       "      <td>6.40</td>\n",
       "      <td>59.5%</td>\n",
       "      <td>1%</td>\n",
       "      <td>465</td>\n",
       "      <td>$115 million</td>\n",
       "    </tr>\n",
       "    <tr>\n",
       "      <th>3</th>\n",
       "      <td>4</td>\n",
       "      <td>NaN</td>\n",
       "      <td>Boston Celtics</td>\n",
       "      <td>Massachusetts</td>\n",
       "      <td>4.70</td>\n",
       "      <td>42.9%</td>\n",
       "      <td>5%</td>\n",
       "      <td>361</td>\n",
       "      <td>$326.5 million</td>\n",
       "    </tr>\n",
       "    <tr>\n",
       "      <th>4</th>\n",
       "      <td>5</td>\n",
       "      <td>3.0</td>\n",
       "      <td>Los Angeles Clippers</td>\n",
       "      <td>California</td>\n",
       "      <td>4.65</td>\n",
       "      <td>77.3%</td>\n",
       "      <td>2%</td>\n",
       "      <td>362</td>\n",
       "      <td>$12 million</td>\n",
       "    </tr>\n",
       "  </tbody>\n",
       "</table>\n",
       "</div>"
      ],
      "text/plain": [
       "   Rank  Swing[a]                   Team      Territory  Value[b] Change[c]  \\\n",
       "0     1       2.0  Golden State Warriors     California      7.70      100%   \n",
       "1     2       1.0        New York Knicks       New York      6.60     52.5%   \n",
       "2     3       1.0     Los Angeles Lakers     California      6.40     59.5%   \n",
       "3     4       NaN         Boston Celtics  Massachusetts      4.70     42.9%   \n",
       "4     5       3.0   Los Angeles Clippers     California      4.65     77.3%   \n",
       "\n",
       "  Debt[d]  Revenue[e] Operating Income[f]  \n",
       "0     16%         765        $206 million  \n",
       "1      4%         452        $155 million  \n",
       "2      1%         465        $115 million  \n",
       "3      5%         361      $326.5 million  \n",
       "4      2%         362         $12 million  "
      ]
     },
     "execution_count": 256,
     "metadata": {},
     "output_type": "execute_result"
    }
   ],
   "source": [
    "#Carregar base de dados que criamos da web\n",
    "df = pd.read_csv('nba_revenue_valuation.csv', header=0)\n",
    "\n",
    "#Ver as primeiras linhas do dataframe\n",
    "df.head()"
   ]
  },
  {
   "cell_type": "code",
   "execution_count": 257,
   "metadata": {},
   "outputs": [
    {
     "data": {
      "text/plain": [
       "Index(['Rank', 'Swing[a]', 'Team', 'Territory', 'Value[b]', 'Change[c]',\n",
       "       'Debt[d]', 'Revenue[e]', 'Operating Income[f]'],\n",
       "      dtype='object')"
      ]
     },
     "execution_count": 257,
     "metadata": {},
     "output_type": "execute_result"
    }
   ],
   "source": [
    "df.columns"
   ]
  },
  {
   "cell_type": "code",
   "execution_count": 258,
   "metadata": {},
   "outputs": [],
   "source": [
    "df = df.drop(columns=['Rank', 'Swing[a]', 'Territory', 'Change[c]', 'Debt[d]', 'Operating Income[f]'])"
   ]
  },
  {
   "cell_type": "code",
   "execution_count": 259,
   "metadata": {},
   "outputs": [
    {
     "data": {
      "text/html": [
       "<div>\n",
       "<style scoped>\n",
       "    .dataframe tbody tr th:only-of-type {\n",
       "        vertical-align: middle;\n",
       "    }\n",
       "\n",
       "    .dataframe tbody tr th {\n",
       "        vertical-align: top;\n",
       "    }\n",
       "\n",
       "    .dataframe thead th {\n",
       "        text-align: right;\n",
       "    }\n",
       "</style>\n",
       "<table border=\"1\" class=\"dataframe\">\n",
       "  <thead>\n",
       "    <tr style=\"text-align: right;\">\n",
       "      <th></th>\n",
       "      <th>Team</th>\n",
       "      <th>Value[b]</th>\n",
       "      <th>Revenue[e]</th>\n",
       "    </tr>\n",
       "  </thead>\n",
       "  <tbody>\n",
       "    <tr>\n",
       "      <th>0</th>\n",
       "      <td>Golden State Warriors</td>\n",
       "      <td>7.70</td>\n",
       "      <td>765</td>\n",
       "    </tr>\n",
       "    <tr>\n",
       "      <th>1</th>\n",
       "      <td>New York Knicks</td>\n",
       "      <td>6.60</td>\n",
       "      <td>452</td>\n",
       "    </tr>\n",
       "    <tr>\n",
       "      <th>2</th>\n",
       "      <td>Los Angeles Lakers</td>\n",
       "      <td>6.40</td>\n",
       "      <td>465</td>\n",
       "    </tr>\n",
       "    <tr>\n",
       "      <th>3</th>\n",
       "      <td>Boston Celtics</td>\n",
       "      <td>4.70</td>\n",
       "      <td>361</td>\n",
       "    </tr>\n",
       "    <tr>\n",
       "      <th>4</th>\n",
       "      <td>Los Angeles Clippers</td>\n",
       "      <td>4.65</td>\n",
       "      <td>362</td>\n",
       "    </tr>\n",
       "  </tbody>\n",
       "</table>\n",
       "</div>"
      ],
      "text/plain": [
       "                    Team  Value[b]  Revenue[e]\n",
       "0  Golden State Warriors      7.70         765\n",
       "1        New York Knicks      6.60         452\n",
       "2     Los Angeles Lakers      6.40         465\n",
       "3         Boston Celtics      4.70         361\n",
       "4   Los Angeles Clippers      4.65         362"
      ]
     },
     "execution_count": 259,
     "metadata": {},
     "output_type": "execute_result"
    }
   ],
   "source": [
    "df.head()"
   ]
  },
  {
   "cell_type": "code",
   "execution_count": 260,
   "metadata": {
    "id": "QxytqipAsmlk"
   },
   "outputs": [],
   "source": [
    "#Renomear as colunas com x e y\n",
    "df = df.rename({'Revenue[e]': 'x', 'Value[b]': 'y'}, axis='columns',)\n"
   ]
  },
  {
   "cell_type": "code",
   "execution_count": 261,
   "metadata": {},
   "outputs": [
    {
     "data": {
      "text/plain": [
       "Index(['Team', 'y', 'x'], dtype='object')"
      ]
     },
     "execution_count": 261,
     "metadata": {},
     "output_type": "execute_result"
    }
   ],
   "source": [
    "df.columns"
   ]
  },
  {
   "cell_type": "code",
   "execution_count": 262,
   "metadata": {
    "id": "3Il1iat9j4MJ"
   },
   "outputs": [],
   "source": [
    "#Tratar dados para consseguir aplicar os modelos\n",
    "#df = df.apply(lambda x: x.str.replace(',','.'))"
   ]
  },
  {
   "cell_type": "code",
   "execution_count": 263,
   "metadata": {
    "id": "8bqJLDK3rK_x"
   },
   "outputs": [],
   "source": [
    "df.iloc[:, 1:3] = df.iloc[:,1:3].applymap(lambda x: np.array(x).astype('float'))"
   ]
  },
  {
   "cell_type": "code",
   "execution_count": 264,
   "metadata": {
    "colab": {
     "base_uri": "https://localhost:8080/",
     "height": 206
    },
    "executionInfo": {
     "elapsed": 4,
     "status": "ok",
     "timestamp": 1690462607911,
     "user": {
      "displayName": "Fernando Arraz",
      "userId": "05056971633190856577"
     },
     "user_tz": 180
    },
    "id": "8ubNl1fHuLIn",
    "outputId": "4cbec0b8-0de9-4697-b9c6-f90497d132e1"
   },
   "outputs": [
    {
     "data": {
      "text/html": [
       "<div>\n",
       "<style scoped>\n",
       "    .dataframe tbody tr th:only-of-type {\n",
       "        vertical-align: middle;\n",
       "    }\n",
       "\n",
       "    .dataframe tbody tr th {\n",
       "        vertical-align: top;\n",
       "    }\n",
       "\n",
       "    .dataframe thead th {\n",
       "        text-align: right;\n",
       "    }\n",
       "</style>\n",
       "<table border=\"1\" class=\"dataframe\">\n",
       "  <thead>\n",
       "    <tr style=\"text-align: right;\">\n",
       "      <th></th>\n",
       "      <th>Team</th>\n",
       "      <th>y</th>\n",
       "      <th>x</th>\n",
       "    </tr>\n",
       "  </thead>\n",
       "  <tbody>\n",
       "    <tr>\n",
       "      <th>0</th>\n",
       "      <td>Golden State Warriors</td>\n",
       "      <td>7.70</td>\n",
       "      <td>765.0</td>\n",
       "    </tr>\n",
       "    <tr>\n",
       "      <th>1</th>\n",
       "      <td>New York Knicks</td>\n",
       "      <td>6.60</td>\n",
       "      <td>452.0</td>\n",
       "    </tr>\n",
       "    <tr>\n",
       "      <th>2</th>\n",
       "      <td>Los Angeles Lakers</td>\n",
       "      <td>6.40</td>\n",
       "      <td>465.0</td>\n",
       "    </tr>\n",
       "    <tr>\n",
       "      <th>3</th>\n",
       "      <td>Boston Celtics</td>\n",
       "      <td>4.70</td>\n",
       "      <td>361.0</td>\n",
       "    </tr>\n",
       "    <tr>\n",
       "      <th>4</th>\n",
       "      <td>Los Angeles Clippers</td>\n",
       "      <td>4.65</td>\n",
       "      <td>362.0</td>\n",
       "    </tr>\n",
       "  </tbody>\n",
       "</table>\n",
       "</div>"
      ],
      "text/plain": [
       "                    Team     y      x\n",
       "0  Golden State Warriors  7.70  765.0\n",
       "1        New York Knicks  6.60  452.0\n",
       "2     Los Angeles Lakers  6.40  465.0\n",
       "3         Boston Celtics  4.70  361.0\n",
       "4   Los Angeles Clippers  4.65  362.0"
      ]
     },
     "execution_count": 264,
     "metadata": {},
     "output_type": "execute_result"
    }
   ],
   "source": [
    "df.head()"
   ]
  },
  {
   "cell_type": "code",
   "execution_count": 265,
   "metadata": {
    "id": "cjIksb5LomNf"
   },
   "outputs": [],
   "source": [
    "#Separar variáveis dependentes das variáveis independentes\n",
    "x = df.x; y = df.y"
   ]
  },
  {
   "cell_type": "code",
   "execution_count": 266,
   "metadata": {},
   "outputs": [
    {
     "data": {
      "text/plain": [
       "(30,)"
      ]
     },
     "execution_count": 266,
     "metadata": {},
     "output_type": "execute_result"
    }
   ],
   "source": [
    "x.shape"
   ]
  },
  {
   "cell_type": "code",
   "execution_count": 267,
   "metadata": {
    "id": "maAC2Vmjx2uY"
   },
   "outputs": [],
   "source": [
    "#Ajustar as dimensões de x e y para atender requisitos da bibl. Scikit-Learn\n",
    "x = np.array(df.x).reshape(-1,1)\n",
    "y = np.array(df.y).reshape(-1,1)"
   ]
  },
  {
   "cell_type": "code",
   "execution_count": 268,
   "metadata": {},
   "outputs": [
    {
     "data": {
      "text/plain": [
       "(30, 1)"
      ]
     },
     "execution_count": 268,
     "metadata": {},
     "output_type": "execute_result"
    }
   ],
   "source": [
    "x.shape"
   ]
  },
  {
   "cell_type": "code",
   "execution_count": 269,
   "metadata": {
    "colab": {
     "base_uri": "https://localhost:8080/",
     "height": 875
    },
    "executionInfo": {
     "elapsed": 1206,
     "status": "ok",
     "timestamp": 1690462617676,
     "user": {
      "displayName": "Fernando Arraz",
      "userId": "05056971633190856577"
     },
     "user_tz": 180
    },
    "id": "N_f_GqWlo3Ga",
    "outputId": "94ac90d7-3fdb-4072-fb67-0a88d97941be"
   },
   "outputs": [
    {
     "name": "stdout",
     "output_type": "stream",
     "text": [
      "b0: [-1.49486767] b1: [[0.01395463]]\n"
     ]
    },
    {
     "data": {
      "image/png": "[encoded data removed]",
      "text/plain": [
       "<Figure size 1200x1000 with 1 Axes>"
      ]
     },
     "metadata": {},
     "output_type": "display_data"
    }
   ],
   "source": [
    "#Comparação com o método doa bibl. Scikit-learn\n",
    "from sklearn.linear_model import LinearRegression\n",
    "\n",
    "#Instanciar o objeto LinearRegression da Scikit-learn\n",
    "reg = LinearRegression()\n",
    "reg.fit(x, y)\n",
    "\n",
    "#Imprimir os resultados\n",
    "print('b0: {} b1: {}'.format(reg.intercept_, reg.coef_))\n",
    "\n",
    "#Plotar o gráfico\n",
    "plt.figure(figsize=(12,10))\n",
    "plt.scatter(x, y, s=12, color='red')\n",
    "plt.plot(x, reg.predict(x), c='red',  )\n",
    "plt.xlabel('x - Receitas (US$ Bilhões)')\n",
    "plt.ylabel('y- Valor do Time (US$ Bilhões)')\n",
    "# plt.legend()\n",
    "for index in range(len(x)):\n",
    "  plt.text(x[index], y[index], df.Team[index], size=5)"
   ]
  },
  {
   "cell_type": "markdown",
   "metadata": {
    "id": "hyOA55Iq989q"
   },
   "source": [
    "**Parte II:**\n",
    "Encontre os parâmetros da regressão linear com pseudoinversa, a fim de mostrar uma maneira prática para realização dos cálculos num ambiente computacional."
   ]
  },
  {
   "cell_type": "markdown",
   "metadata": {
    "id": "Fmrl4B64MQH8"
   },
   "source": [
    "**Um pouco de teoria:**\n",
    "\n",
    "Sabemos que sistemas deste tipo $ \\vec{y} = X.\\vec{\\beta}$ podem ser resolvidos pela pseudoiversa, tal como segue:\n",
    "\n",
    "$ \\vec{y} = X.\\vec{\\beta} \\implies X^T.\\vec{y} = X^T.X.\\vec{\\beta} \\implies (X^T.X.)^{-1}.X^T.\\vec{y} = (X^T.X.)^{-1}.X^T.X.\\vec{\\beta} \\implies (X^T.X.)^{-1}.X^T.\\vec{y} = \\vec{\\beta}$\n",
    "\n",
    "Ou seja, na prática, temos operações com inversas de uma matriz e transpostas, e estas (por sorte !!! 😀) podem ser facilmente usadas no Python, como veremos a seguir:\n"
   ]
  },
  {
   "cell_type": "code",
   "execution_count": 270,
   "metadata": {
    "colab": {
     "base_uri": "https://localhost:8080/"
    },
    "executionInfo": {
     "elapsed": 312,
     "status": "ok",
     "timestamp": 1690462620339,
     "user": {
      "displayName": "Fernando Arraz",
      "userId": "05056971633190856577"
     },
     "user_tz": 180
    },
    "id": "JaajX22I5l-s",
    "outputId": "b6285f29-da0a-4cbd-cef0-8022911f76bf"
   },
   "outputs": [
    {
     "data": {
      "text/plain": [
       "(30, 1)"
      ]
     },
     "execution_count": 270,
     "metadata": {},
     "output_type": "execute_result"
    }
   ],
   "source": [
    "#Verificar dimensões dos vetores para conseguir fazer as operações\n",
    "x.shape"
   ]
  },
  {
   "cell_type": "markdown",
   "metadata": {
    "id": "cZ5hqhzRQIrN"
   },
   "source": [
    "OBS: precisamos criar uma matriz com os pontos da variável independente de $X$ (que representa o coeficiente $\\beta_1$) da base de dados e incluir uma coluna para representar o coeficiente de $\\beta_0$ (inicializados com 1)."
   ]
  },
  {
   "cell_type": "code",
   "execution_count": 271,
   "metadata": {
    "colab": {
     "base_uri": "https://localhost:8080/"
    },
    "executionInfo": {
     "elapsed": 2,
     "status": "ok",
     "timestamp": 1690462621642,
     "user": {
      "displayName": "Fernando Arraz",
      "userId": "05056971633190856577"
     },
     "user_tz": 180
    },
    "id": "5YOqzRWR5l70",
    "outputId": "ad715013-6053-4056-f1e3-e68ab2e6797b"
   },
   "outputs": [
    {
     "data": {
      "text/plain": [
       "array([[1., 1.],\n",
       "       [1., 1.],\n",
       "       [1., 1.],\n",
       "       [1., 1.],\n",
       "       [1., 1.],\n",
       "       [1., 1.],\n",
       "       [1., 1.],\n",
       "       [1., 1.],\n",
       "       [1., 1.],\n",
       "       [1., 1.],\n",
       "       [1., 1.],\n",
       "       [1., 1.],\n",
       "       [1., 1.],\n",
       "       [1., 1.],\n",
       "       [1., 1.],\n",
       "       [1., 1.],\n",
       "       [1., 1.],\n",
       "       [1., 1.],\n",
       "       [1., 1.],\n",
       "       [1., 1.],\n",
       "       [1., 1.],\n",
       "       [1., 1.],\n",
       "       [1., 1.],\n",
       "       [1., 1.],\n",
       "       [1., 1.],\n",
       "       [1., 1.],\n",
       "       [1., 1.],\n",
       "       [1., 1.],\n",
       "       [1., 1.],\n",
       "       [1., 1.]])"
      ]
     },
     "execution_count": 271,
     "metadata": {},
     "output_type": "execute_result"
    }
   ],
   "source": [
    "#Criar vetor X para simbolizar a matriz das observações conforme sistema citado acima\n",
    "X = np.ones((30, 2)); X"
   ]
  },
  {
   "cell_type": "code",
   "execution_count": 272,
   "metadata": {
    "id": "o2ANmKOd5lyN"
   },
   "outputs": [],
   "source": [
    "#Multiplicar a coluna 1 de X para representar todos os x_i da base de dados\n",
    "X[:,1] = X[:,1]*x.reshape(30,)"
   ]
  },
  {
   "cell_type": "code",
   "execution_count": 273,
   "metadata": {
    "colab": {
     "base_uri": "https://localhost:8080/"
    },
    "executionInfo": {
     "elapsed": 2,
     "status": "ok",
     "timestamp": 1690462623704,
     "user": {
      "displayName": "Fernando Arraz",
      "userId": "05056971633190856577"
     },
     "user_tz": 180
    },
    "id": "8JoDOfRIMMyt",
    "outputId": "5de13feb-bb1d-4511-efc4-8d50f65e2e9b"
   },
   "outputs": [
    {
     "data": {
      "text/plain": [
       "array([[  1., 765.],\n",
       "       [  1., 452.],\n",
       "       [  1., 465.],\n",
       "       [  1., 361.],\n",
       "       [  1., 362.],\n",
       "       [  1., 352.],\n",
       "       [  1., 364.],\n",
       "       [  1., 350.],\n",
       "       [  1., 345.],\n",
       "       [  1., 305.],\n",
       "       [  1., 302.],\n",
       "       [  1., 326.],\n",
       "       [  1., 405.],\n",
       "       [  1., 291.],\n",
       "       [  1., 273.],\n",
       "       [  1., 352.],\n",
       "       [  1., 291.],\n",
       "       [  1., 325.],\n",
       "       [  1., 279.],\n",
       "       [  1., 308.],\n",
       "       [  1., 306.],\n",
       "       [  1., 282.],\n",
       "       [  1., 278.],\n",
       "       [  1., 274.],\n",
       "       [  1., 272.],\n",
       "       [  1., 264.],\n",
       "       [  1., 269.],\n",
       "       [  1., 271.],\n",
       "       [  1., 272.],\n",
       "       [  1., 268.]])"
      ]
     },
     "execution_count": 273,
     "metadata": {},
     "output_type": "execute_result"
    }
   ],
   "source": [
    "X"
   ]
  },
  {
   "cell_type": "code",
   "execution_count": 274,
   "metadata": {
    "colab": {
     "base_uri": "https://localhost:8080/"
    },
    "executionInfo": {
     "elapsed": 2,
     "status": "ok",
     "timestamp": 1690462624443,
     "user": {
      "displayName": "Fernando Arraz",
      "userId": "05056971633190856577"
     },
     "user_tz": 180
    },
    "id": "lTMh5M23SfR5",
    "outputId": "d11d12db-3dcd-44e4-f294-dfbee4520f4e"
   },
   "outputs": [
    {
     "data": {
      "text/plain": [
       "(30, 2)"
      ]
     },
     "execution_count": 274,
     "metadata": {},
     "output_type": "execute_result"
    }
   ],
   "source": [
    "#Verificar se temos uma matriz com 30 observações e 2 colunas (representa os coeficientes b0 e b1)\n",
    "X.shape"
   ]
  },
  {
   "cell_type": "code",
   "execution_count": 275,
   "metadata": {
    "colab": {
     "base_uri": "https://localhost:8080/"
    },
    "executionInfo": {
     "elapsed": 2,
     "status": "ok",
     "timestamp": 1690462625176,
     "user": {
      "displayName": "Fernando Arraz",
      "userId": "05056971633190856577"
     },
     "user_tz": 180
    },
    "id": "L3ve2wVVN9OR",
    "outputId": "992fc0a0-88a3-48a4-a126-5a1a9bd026ea"
   },
   "outputs": [
    {
     "data": {
      "text/plain": [
       "(30, 1)"
      ]
     },
     "execution_count": 275,
     "metadata": {},
     "output_type": "execute_result"
    }
   ],
   "source": [
    "#Verificar as dimensões de y (variável resposta)\n",
    "y.shape"
   ]
  },
  {
   "cell_type": "markdown",
   "metadata": {
    "id": "0f1xnpIXTG50"
   },
   "source": [
    "Agora, realizar os cálculos conforme fórmula da pseudoinversa\n",
    "\n",
    "$(X^T.X.)^{-1}.X^T.\\vec{y} = \\vec{\\beta}$\n"
   ]
  },
  {
   "cell_type": "code",
   "execution_count": 276,
   "metadata": {
    "id": "cwOMtJ13OKYZ"
   },
   "outputs": [],
   "source": [
    "#Fazer os calculos conforme\n",
    "XT_X_inv = np.linalg.inv(np.dot(X.T, X))\n",
    "XT = X.T\n"
   ]
  },
  {
   "cell_type": "code",
   "execution_count": 277,
   "metadata": {
    "id": "wRv6R6fVNdll"
   },
   "outputs": [],
   "source": [
    "#calcular a pseudoinversa para encontrar os valores dos coeficientes b0 e b1\n",
    "Beta = np.dot(np.dot(XT_X_inv, XT), y.reshape(30))"
   ]
  },
  {
   "cell_type": "code",
   "execution_count": 278,
   "metadata": {
    "id": "gldxyvmwXHEo"
   },
   "outputs": [],
   "source": [
    "#Usar metodo da pseudoinversa diretamente com suporte da biblioteca numpy\n",
    "X_pinv = np.linalg.pinv(X)"
   ]
  },
  {
   "cell_type": "code",
   "execution_count": 279,
   "metadata": {
    "colab": {
     "base_uri": "https://localhost:8080/"
    },
    "executionInfo": {
     "elapsed": 1,
     "status": "ok",
     "timestamp": 1690462628155,
     "user": {
      "displayName": "Fernando Arraz",
      "userId": "05056971633190856577"
     },
     "user_tz": 180
    },
    "id": "g9G55qUhX069",
    "outputId": "82ced6d2-5aa6-4446-8e94-fbef97840d0f"
   },
   "outputs": [
    {
     "data": {
      "text/plain": [
       "array([-1.49486767,  0.01395463])"
      ]
     },
     "execution_count": 279,
     "metadata": {},
     "output_type": "execute_result"
    }
   ],
   "source": [
    "np.dot(X_pinv, y.reshape(30,))"
   ]
  },
  {
   "cell_type": "code",
   "execution_count": 280,
   "metadata": {
    "colab": {
     "base_uri": "https://localhost:8080/",
     "height": 51
    },
    "executionInfo": {
     "elapsed": 3,
     "status": "ok",
     "timestamp": 1690462629219,
     "user": {
      "displayName": "Fernando Arraz",
      "userId": "05056971633190856577"
     },
     "user_tz": 180
    },
    "id": "gRckyQ3KV283",
    "outputId": "1653efa0-fab8-4abe-9a71-e9fe4a042e61"
   },
   "outputs": [
    {
     "data": {
      "text/markdown": [
       "O valor de $\\beta_0$ é -1.4948676743082268 e o valor de $\\beta_1$ é 0.01395463458263502"
      ],
      "text/plain": [
       "<IPython.core.display.Markdown object>"
      ]
     },
     "metadata": {},
     "output_type": "display_data"
    }
   ],
   "source": [
    "from IPython.display import display, Markdown\n",
    "display(Markdown(rf\"O valor de $\\beta_0$ é {Beta[0]} e o valor de $\\beta_1$ é {Beta[1]}\"))"
   ]
  },
  {
   "cell_type": "markdown",
   "metadata": {
    "id": "sPzMw2bFbOs7"
   },
   "source": [
    "Comparando resultados com os resultados obtidos por bibliotecas Python consagradas, com é o caso da Scikit-Learn"
   ]
  },
  {
   "cell_type": "code",
   "execution_count": 281,
   "metadata": {
    "colab": {
     "base_uri": "https://localhost:8080/",
     "height": 51
    },
    "executionInfo": {
     "elapsed": 480,
     "status": "ok",
     "timestamp": 1690462703729,
     "user": {
      "displayName": "Fernando Arraz",
      "userId": "05056971633190856577"
     },
     "user_tz": 180
    },
    "id": "Tsni5RJSWQWC",
    "outputId": "19a08ecc-727e-4c2c-c899-66fa3f2db38e"
   },
   "outputs": [
    {
     "data": {
      "text/markdown": [
       "Usando o Scikit-Learn: O valor de $\\beta_0$ é -1.4948676743082197 e o valor de $\\beta_1$ é 0.013954634582635015"
      ],
      "text/plain": [
       "<IPython.core.display.Markdown object>"
      ]
     },
     "metadata": {},
     "output_type": "display_data"
    }
   ],
   "source": [
    "#Instanciar o objeto LinearRegression da Scikit-learn\n",
    "reg = LinearRegression()\n",
    "reg.fit(x, y)\n",
    "\n",
    "#Imprimir os resultados\n",
    "display(Markdown(rf\"Usando o Scikit-Learn: O valor de $\\beta_0$ é {reg.intercept_[0]} e o valor de $\\beta_1$ é {reg.coef_[0][0]}\"))"
   ]
  },
  {
   "cell_type": "markdown",
   "metadata": {
    "id": "TX3ZRL7wYa5p"
   },
   "source": [
    "**Parte III:**\n",
    "Introdução do modelo de regressão linear com múltiplas variáveis, estendendo os conceitos vistos nas partes anteriores. Usaremos aqui uma base de dados da referência [1]."
   ]
  },
  {
   "cell_type": "code",
   "execution_count": 282,
   "metadata": {
    "colab": {
     "base_uri": "https://localhost:8080/",
     "height": 206
    },
    "executionInfo": {
     "elapsed": 438,
     "status": "ok",
     "timestamp": 1690462714242,
     "user": {
      "displayName": "Fernando Arraz",
      "userId": "05056971633190856577"
     },
     "user_tz": 180
    },
    "id": "AaCR_seNYqoh",
    "outputId": "4c204756-1fd3-4edf-fc7d-b0702ac104dd"
   },
   "outputs": [
    {
     "data": {
      "text/html": [
       "<div>\n",
       "<style scoped>\n",
       "    .dataframe tbody tr th:only-of-type {\n",
       "        vertical-align: middle;\n",
       "    }\n",
       "\n",
       "    .dataframe tbody tr th {\n",
       "        vertical-align: top;\n",
       "    }\n",
       "\n",
       "    .dataframe thead th {\n",
       "        text-align: right;\n",
       "    }\n",
       "</style>\n",
       "<table border=\"1\" class=\"dataframe\">\n",
       "  <thead>\n",
       "    <tr style=\"text-align: right;\">\n",
       "      <th></th>\n",
       "      <th>Unnamed: 0</th>\n",
       "      <th>TV</th>\n",
       "      <th>radio</th>\n",
       "      <th>newspaper</th>\n",
       "      <th>sales</th>\n",
       "    </tr>\n",
       "  </thead>\n",
       "  <tbody>\n",
       "    <tr>\n",
       "      <th>0</th>\n",
       "      <td>1</td>\n",
       "      <td>230.1</td>\n",
       "      <td>37.8</td>\n",
       "      <td>69.2</td>\n",
       "      <td>22.1</td>\n",
       "    </tr>\n",
       "    <tr>\n",
       "      <th>1</th>\n",
       "      <td>2</td>\n",
       "      <td>44.5</td>\n",
       "      <td>39.3</td>\n",
       "      <td>45.1</td>\n",
       "      <td>10.4</td>\n",
       "    </tr>\n",
       "    <tr>\n",
       "      <th>2</th>\n",
       "      <td>3</td>\n",
       "      <td>17.2</td>\n",
       "      <td>45.9</td>\n",
       "      <td>69.3</td>\n",
       "      <td>9.3</td>\n",
       "    </tr>\n",
       "    <tr>\n",
       "      <th>3</th>\n",
       "      <td>4</td>\n",
       "      <td>151.5</td>\n",
       "      <td>41.3</td>\n",
       "      <td>58.5</td>\n",
       "      <td>18.5</td>\n",
       "    </tr>\n",
       "    <tr>\n",
       "      <th>4</th>\n",
       "      <td>5</td>\n",
       "      <td>180.8</td>\n",
       "      <td>10.8</td>\n",
       "      <td>58.4</td>\n",
       "      <td>12.9</td>\n",
       "    </tr>\n",
       "  </tbody>\n",
       "</table>\n",
       "</div>"
      ],
      "text/plain": [
       "   Unnamed: 0     TV  radio  newspaper  sales\n",
       "0           1  230.1   37.8       69.2   22.1\n",
       "1           2   44.5   39.3       45.1   10.4\n",
       "2           3   17.2   45.9       69.3    9.3\n",
       "3           4  151.5   41.3       58.5   18.5\n",
       "4           5  180.8   10.8       58.4   12.9"
      ]
     },
     "execution_count": 282,
     "metadata": {},
     "output_type": "execute_result"
    }
   ],
   "source": [
    "df = pd.read_csv('https://www.statlearning.com/s/Advertising.csv')\n",
    "df.head()"
   ]
  },
  {
   "cell_type": "code",
   "execution_count": 283,
   "metadata": {
    "colab": {
     "base_uri": "https://localhost:8080/",
     "height": 423
    },
    "executionInfo": {
     "elapsed": 3,
     "status": "ok",
     "timestamp": 1690462715278,
     "user": {
      "displayName": "Fernando Arraz",
      "userId": "05056971633190856577"
     },
     "user_tz": 180
    },
    "id": "QeXIWwt_ZaPY",
    "outputId": "fb8bfb09-c6d2-4755-e63c-e06e6df50fa7"
   },
   "outputs": [
    {
     "data": {
      "text/html": [
       "<div>\n",
       "<style scoped>\n",
       "    .dataframe tbody tr th:only-of-type {\n",
       "        vertical-align: middle;\n",
       "    }\n",
       "\n",
       "    .dataframe tbody tr th {\n",
       "        vertical-align: top;\n",
       "    }\n",
       "\n",
       "    .dataframe thead th {\n",
       "        text-align: right;\n",
       "    }\n",
       "</style>\n",
       "<table border=\"1\" class=\"dataframe\">\n",
       "  <thead>\n",
       "    <tr style=\"text-align: right;\">\n",
       "      <th></th>\n",
       "      <th>TV</th>\n",
       "      <th>radio</th>\n",
       "      <th>newspaper</th>\n",
       "      <th>sales</th>\n",
       "    </tr>\n",
       "  </thead>\n",
       "  <tbody>\n",
       "    <tr>\n",
       "      <th>0</th>\n",
       "      <td>230.1</td>\n",
       "      <td>37.8</td>\n",
       "      <td>69.2</td>\n",
       "      <td>22.1</td>\n",
       "    </tr>\n",
       "    <tr>\n",
       "      <th>1</th>\n",
       "      <td>44.5</td>\n",
       "      <td>39.3</td>\n",
       "      <td>45.1</td>\n",
       "      <td>10.4</td>\n",
       "    </tr>\n",
       "    <tr>\n",
       "      <th>2</th>\n",
       "      <td>17.2</td>\n",
       "      <td>45.9</td>\n",
       "      <td>69.3</td>\n",
       "      <td>9.3</td>\n",
       "    </tr>\n",
       "    <tr>\n",
       "      <th>3</th>\n",
       "      <td>151.5</td>\n",
       "      <td>41.3</td>\n",
       "      <td>58.5</td>\n",
       "      <td>18.5</td>\n",
       "    </tr>\n",
       "    <tr>\n",
       "      <th>4</th>\n",
       "      <td>180.8</td>\n",
       "      <td>10.8</td>\n",
       "      <td>58.4</td>\n",
       "      <td>12.9</td>\n",
       "    </tr>\n",
       "    <tr>\n",
       "      <th>...</th>\n",
       "      <td>...</td>\n",
       "      <td>...</td>\n",
       "      <td>...</td>\n",
       "      <td>...</td>\n",
       "    </tr>\n",
       "    <tr>\n",
       "      <th>195</th>\n",
       "      <td>38.2</td>\n",
       "      <td>3.7</td>\n",
       "      <td>13.8</td>\n",
       "      <td>7.6</td>\n",
       "    </tr>\n",
       "    <tr>\n",
       "      <th>196</th>\n",
       "      <td>94.2</td>\n",
       "      <td>4.9</td>\n",
       "      <td>8.1</td>\n",
       "      <td>9.7</td>\n",
       "    </tr>\n",
       "    <tr>\n",
       "      <th>197</th>\n",
       "      <td>177.0</td>\n",
       "      <td>9.3</td>\n",
       "      <td>6.4</td>\n",
       "      <td>12.8</td>\n",
       "    </tr>\n",
       "    <tr>\n",
       "      <th>198</th>\n",
       "      <td>283.6</td>\n",
       "      <td>42.0</td>\n",
       "      <td>66.2</td>\n",
       "      <td>25.5</td>\n",
       "    </tr>\n",
       "    <tr>\n",
       "      <th>199</th>\n",
       "      <td>232.1</td>\n",
       "      <td>8.6</td>\n",
       "      <td>8.7</td>\n",
       "      <td>13.4</td>\n",
       "    </tr>\n",
       "  </tbody>\n",
       "</table>\n",
       "<p>200 rows × 4 columns</p>\n",
       "</div>"
      ],
      "text/plain": [
       "        TV  radio  newspaper  sales\n",
       "0    230.1   37.8       69.2   22.1\n",
       "1     44.5   39.3       45.1   10.4\n",
       "2     17.2   45.9       69.3    9.3\n",
       "3    151.5   41.3       58.5   18.5\n",
       "4    180.8   10.8       58.4   12.9\n",
       "..     ...    ...        ...    ...\n",
       "195   38.2    3.7       13.8    7.6\n",
       "196   94.2    4.9        8.1    9.7\n",
       "197  177.0    9.3        6.4   12.8\n",
       "198  283.6   42.0       66.2   25.5\n",
       "199  232.1    8.6        8.7   13.4\n",
       "\n",
       "[200 rows x 4 columns]"
      ]
     },
     "execution_count": 283,
     "metadata": {},
     "output_type": "execute_result"
    }
   ],
   "source": [
    "df.drop(df.columns[0], axis=1, inplace=True);df"
   ]
  },
  {
   "cell_type": "markdown",
   "metadata": {
    "id": "7ZAzzpN2Nbhv"
   },
   "source": [
    "Agora, vamos realizar os cálculos conforme fórmula da pseudoinversa\n",
    "\n",
    "$(X^T.X.)^{-1}.X^T.\\vec{y} = \\vec{\\beta}$\n"
   ]
  },
  {
   "cell_type": "code",
   "execution_count": 284,
   "metadata": {
    "colab": {
     "base_uri": "https://localhost:8080/"
    },
    "executionInfo": {
     "elapsed": 430,
     "status": "ok",
     "timestamp": 1690462717657,
     "user": {
      "displayName": "Fernando Arraz",
      "userId": "05056971633190856577"
     },
     "user_tz": 180
    },
    "id": "PpL6IrJAOGhS",
    "outputId": "7ca0bd66-015a-4661-9517-bfcc17de02b9"
   },
   "outputs": [
    {
     "data": {
      "text/plain": [
       "(200, 4)"
      ]
     },
     "execution_count": 284,
     "metadata": {},
     "output_type": "execute_result"
    }
   ],
   "source": [
    "df.shape"
   ]
  },
  {
   "cell_type": "code",
   "execution_count": 285,
   "metadata": {
    "colab": {
     "base_uri": "https://localhost:8080/"
    },
    "executionInfo": {
     "elapsed": 293,
     "status": "ok",
     "timestamp": 1690462729577,
     "user": {
      "displayName": "Fernando Arraz",
      "userId": "05056971633190856577"
     },
     "user_tz": 180
    },
    "id": "rBEbmQ4XOGuu",
    "outputId": "6a8c1e97-90a8-4bc4-b6c7-0adb08f7beb6"
   },
   "outputs": [
    {
     "data": {
      "text/plain": [
       "array([[1., 1., 1., 1.],\n",
       "       [1., 1., 1., 1.],\n",
       "       [1., 1., 1., 1.],\n",
       "       [1., 1., 1., 1.],\n",
       "       [1., 1., 1., 1.],\n",
       "       [1., 1., 1., 1.],\n",
       "       [1., 1., 1., 1.],\n",
       "       [1., 1., 1., 1.],\n",
       "       [1., 1., 1., 1.],\n",
       "       [1., 1., 1., 1.],\n",
       "       [1., 1., 1., 1.],\n",
       "       [1., 1., 1., 1.],\n",
       "       [1., 1., 1., 1.],\n",
       "       [1., 1., 1., 1.],\n",
       "       [1., 1., 1., 1.],\n",
       "       [1., 1., 1., 1.],\n",
       "       [1., 1., 1., 1.],\n",
       "       [1., 1., 1., 1.],\n",
       "       [1., 1., 1., 1.],\n",
       "       [1., 1., 1., 1.],\n",
       "       [1., 1., 1., 1.],\n",
       "       [1., 1., 1., 1.],\n",
       "       [1., 1., 1., 1.],\n",
       "       [1., 1., 1., 1.],\n",
       "       [1., 1., 1., 1.],\n",
       "       [1., 1., 1., 1.],\n",
       "       [1., 1., 1., 1.],\n",
       "       [1., 1., 1., 1.],\n",
       "       [1., 1., 1., 1.],\n",
       "       [1., 1., 1., 1.],\n",
       "       [1., 1., 1., 1.],\n",
       "       [1., 1., 1., 1.],\n",
       "       [1., 1., 1., 1.],\n",
       "       [1., 1., 1., 1.],\n",
       "       [1., 1., 1., 1.],\n",
       "       [1., 1., 1., 1.],\n",
       "       [1., 1., 1., 1.],\n",
       "       [1., 1., 1., 1.],\n",
       "       [1., 1., 1., 1.],\n",
       "       [1., 1., 1., 1.],\n",
       "       [1., 1., 1., 1.],\n",
       "       [1., 1., 1., 1.],\n",
       "       [1., 1., 1., 1.],\n",
       "       [1., 1., 1., 1.],\n",
       "       [1., 1., 1., 1.],\n",
       "       [1., 1., 1., 1.],\n",
       "       [1., 1., 1., 1.],\n",
       "       [1., 1., 1., 1.],\n",
       "       [1., 1., 1., 1.],\n",
       "       [1., 1., 1., 1.],\n",
       "       [1., 1., 1., 1.],\n",
       "       [1., 1., 1., 1.],\n",
       "       [1., 1., 1., 1.],\n",
       "       [1., 1., 1., 1.],\n",
       "       [1., 1., 1., 1.],\n",
       "       [1., 1., 1., 1.],\n",
       "       [1., 1., 1., 1.],\n",
       "       [1., 1., 1., 1.],\n",
       "       [1., 1., 1., 1.],\n",
       "       [1., 1., 1., 1.],\n",
       "       [1., 1., 1., 1.],\n",
       "       [1., 1., 1., 1.],\n",
       "       [1., 1., 1., 1.],\n",
       "       [1., 1., 1., 1.],\n",
       "       [1., 1., 1., 1.],\n",
       "       [1., 1., 1., 1.],\n",
       "       [1., 1., 1., 1.],\n",
       "       [1., 1., 1., 1.],\n",
       "       [1., 1., 1., 1.],\n",
       "       [1., 1., 1., 1.],\n",
       "       [1., 1., 1., 1.],\n",
       "       [1., 1., 1., 1.],\n",
       "       [1., 1., 1., 1.],\n",
       "       [1., 1., 1., 1.],\n",
       "       [1., 1., 1., 1.],\n",
       "       [1., 1., 1., 1.],\n",
       "       [1., 1., 1., 1.],\n",
       "       [1., 1., 1., 1.],\n",
       "       [1., 1., 1., 1.],\n",
       "       [1., 1., 1., 1.],\n",
       "       [1., 1., 1., 1.],\n",
       "       [1., 1., 1., 1.],\n",
       "       [1., 1., 1., 1.],\n",
       "       [1., 1., 1., 1.],\n",
       "       [1., 1., 1., 1.],\n",
       "       [1., 1., 1., 1.],\n",
       "       [1., 1., 1., 1.],\n",
       "       [1., 1., 1., 1.],\n",
       "       [1., 1., 1., 1.],\n",
       "       [1., 1., 1., 1.],\n",
       "       [1., 1., 1., 1.],\n",
       "       [1., 1., 1., 1.],\n",
       "       [1., 1., 1., 1.],\n",
       "       [1., 1., 1., 1.],\n",
       "       [1., 1., 1., 1.],\n",
       "       [1., 1., 1., 1.],\n",
       "       [1., 1., 1., 1.],\n",
       "       [1., 1., 1., 1.],\n",
       "       [1., 1., 1., 1.],\n",
       "       [1., 1., 1., 1.],\n",
       "       [1., 1., 1., 1.],\n",
       "       [1., 1., 1., 1.],\n",
       "       [1., 1., 1., 1.],\n",
       "       [1., 1., 1., 1.],\n",
       "       [1., 1., 1., 1.],\n",
       "       [1., 1., 1., 1.],\n",
       "       [1., 1., 1., 1.],\n",
       "       [1., 1., 1., 1.],\n",
       "       [1., 1., 1., 1.],\n",
       "       [1., 1., 1., 1.],\n",
       "       [1., 1., 1., 1.],\n",
       "       [1., 1., 1., 1.],\n",
       "       [1., 1., 1., 1.],\n",
       "       [1., 1., 1., 1.],\n",
       "       [1., 1., 1., 1.],\n",
       "       [1., 1., 1., 1.],\n",
       "       [1., 1., 1., 1.],\n",
       "       [1., 1., 1., 1.],\n",
       "       [1., 1., 1., 1.],\n",
       "       [1., 1., 1., 1.],\n",
       "       [1., 1., 1., 1.],\n",
       "       [1., 1., 1., 1.],\n",
       "       [1., 1., 1., 1.],\n",
       "       [1., 1., 1., 1.],\n",
       "       [1., 1., 1., 1.],\n",
       "       [1., 1., 1., 1.],\n",
       "       [1., 1., 1., 1.],\n",
       "       [1., 1., 1., 1.],\n",
       "       [1., 1., 1., 1.],\n",
       "       [1., 1., 1., 1.],\n",
       "       [1., 1., 1., 1.],\n",
       "       [1., 1., 1., 1.],\n",
       "       [1., 1., 1., 1.],\n",
       "       [1., 1., 1., 1.],\n",
       "       [1., 1., 1., 1.],\n",
       "       [1., 1., 1., 1.],\n",
       "       [1., 1., 1., 1.],\n",
       "       [1., 1., 1., 1.],\n",
       "       [1., 1., 1., 1.],\n",
       "       [1., 1., 1., 1.],\n",
       "       [1., 1., 1., 1.],\n",
       "       [1., 1., 1., 1.],\n",
       "       [1., 1., 1., 1.],\n",
       "       [1., 1., 1., 1.],\n",
       "       [1., 1., 1., 1.],\n",
       "       [1., 1., 1., 1.],\n",
       "       [1., 1., 1., 1.],\n",
       "       [1., 1., 1., 1.],\n",
       "       [1., 1., 1., 1.],\n",
       "       [1., 1., 1., 1.],\n",
       "       [1., 1., 1., 1.],\n",
       "       [1., 1., 1., 1.],\n",
       "       [1., 1., 1., 1.],\n",
       "       [1., 1., 1., 1.],\n",
       "       [1., 1., 1., 1.],\n",
       "       [1., 1., 1., 1.],\n",
       "       [1., 1., 1., 1.],\n",
       "       [1., 1., 1., 1.],\n",
       "       [1., 1., 1., 1.],\n",
       "       [1., 1., 1., 1.],\n",
       "       [1., 1., 1., 1.],\n",
       "       [1., 1., 1., 1.],\n",
       "       [1., 1., 1., 1.],\n",
       "       [1., 1., 1., 1.],\n",
       "       [1., 1., 1., 1.],\n",
       "       [1., 1., 1., 1.],\n",
       "       [1., 1., 1., 1.],\n",
       "       [1., 1., 1., 1.],\n",
       "       [1., 1., 1., 1.],\n",
       "       [1., 1., 1., 1.],\n",
       "       [1., 1., 1., 1.],\n",
       "       [1., 1., 1., 1.],\n",
       "       [1., 1., 1., 1.],\n",
       "       [1., 1., 1., 1.],\n",
       "       [1., 1., 1., 1.],\n",
       "       [1., 1., 1., 1.],\n",
       "       [1., 1., 1., 1.],\n",
       "       [1., 1., 1., 1.],\n",
       "       [1., 1., 1., 1.],\n",
       "       [1., 1., 1., 1.],\n",
       "       [1., 1., 1., 1.],\n",
       "       [1., 1., 1., 1.],\n",
       "       [1., 1., 1., 1.],\n",
       "       [1., 1., 1., 1.],\n",
       "       [1., 1., 1., 1.],\n",
       "       [1., 1., 1., 1.],\n",
       "       [1., 1., 1., 1.],\n",
       "       [1., 1., 1., 1.],\n",
       "       [1., 1., 1., 1.],\n",
       "       [1., 1., 1., 1.],\n",
       "       [1., 1., 1., 1.],\n",
       "       [1., 1., 1., 1.],\n",
       "       [1., 1., 1., 1.],\n",
       "       [1., 1., 1., 1.],\n",
       "       [1., 1., 1., 1.],\n",
       "       [1., 1., 1., 1.],\n",
       "       [1., 1., 1., 1.],\n",
       "       [1., 1., 1., 1.],\n",
       "       [1., 1., 1., 1.],\n",
       "       [1., 1., 1., 1.]])"
      ]
     },
     "execution_count": 285,
     "metadata": {},
     "output_type": "execute_result"
    }
   ],
   "source": [
    "#Criar vetor X para simbolizar a matriz das observações conforme sistema citado acima\n",
    "X = np.ones((200, 4)); X"
   ]
  },
  {
   "cell_type": "code",
   "execution_count": 286,
   "metadata": {
    "id": "lgDQgdD2OGuv"
   },
   "outputs": [],
   "source": [
    "#Multiplicar a coluna 1 de X para representar todos os x_i da base de dados\n",
    "X[:,1:4] = X[:,1:4]*df[df.columns[0:3]]"
   ]
  },
  {
   "cell_type": "code",
   "execution_count": 287,
   "metadata": {
    "colab": {
     "base_uri": "https://localhost:8080/",
     "height": 206
    },
    "executionInfo": {
     "elapsed": 4,
     "status": "ok",
     "timestamp": 1690462731298,
     "user": {
      "displayName": "Fernando Arraz",
      "userId": "05056971633190856577"
     },
     "user_tz": 180
    },
    "id": "z4oKKuZeSbKY",
    "outputId": "8139e300-2ca5-43f4-a72c-03e3f6cf6d33"
   },
   "outputs": [
    {
     "data": {
      "text/html": [
       "<div>\n",
       "<style scoped>\n",
       "    .dataframe tbody tr th:only-of-type {\n",
       "        vertical-align: middle;\n",
       "    }\n",
       "\n",
       "    .dataframe tbody tr th {\n",
       "        vertical-align: top;\n",
       "    }\n",
       "\n",
       "    .dataframe thead th {\n",
       "        text-align: right;\n",
       "    }\n",
       "</style>\n",
       "<table border=\"1\" class=\"dataframe\">\n",
       "  <thead>\n",
       "    <tr style=\"text-align: right;\">\n",
       "      <th></th>\n",
       "      <th>TV</th>\n",
       "      <th>radio</th>\n",
       "      <th>newspaper</th>\n",
       "      <th>sales</th>\n",
       "    </tr>\n",
       "  </thead>\n",
       "  <tbody>\n",
       "    <tr>\n",
       "      <th>0</th>\n",
       "      <td>230.1</td>\n",
       "      <td>37.8</td>\n",
       "      <td>69.2</td>\n",
       "      <td>22.1</td>\n",
       "    </tr>\n",
       "    <tr>\n",
       "      <th>1</th>\n",
       "      <td>44.5</td>\n",
       "      <td>39.3</td>\n",
       "      <td>45.1</td>\n",
       "      <td>10.4</td>\n",
       "    </tr>\n",
       "    <tr>\n",
       "      <th>2</th>\n",
       "      <td>17.2</td>\n",
       "      <td>45.9</td>\n",
       "      <td>69.3</td>\n",
       "      <td>9.3</td>\n",
       "    </tr>\n",
       "    <tr>\n",
       "      <th>3</th>\n",
       "      <td>151.5</td>\n",
       "      <td>41.3</td>\n",
       "      <td>58.5</td>\n",
       "      <td>18.5</td>\n",
       "    </tr>\n",
       "    <tr>\n",
       "      <th>4</th>\n",
       "      <td>180.8</td>\n",
       "      <td>10.8</td>\n",
       "      <td>58.4</td>\n",
       "      <td>12.9</td>\n",
       "    </tr>\n",
       "  </tbody>\n",
       "</table>\n",
       "</div>"
      ],
      "text/plain": [
       "      TV  radio  newspaper  sales\n",
       "0  230.1   37.8       69.2   22.1\n",
       "1   44.5   39.3       45.1   10.4\n",
       "2   17.2   45.9       69.3    9.3\n",
       "3  151.5   41.3       58.5   18.5\n",
       "4  180.8   10.8       58.4   12.9"
      ]
     },
     "execution_count": 287,
     "metadata": {},
     "output_type": "execute_result"
    }
   ],
   "source": [
    "df.head()"
   ]
  },
  {
   "cell_type": "code",
   "execution_count": 288,
   "metadata": {
    "colab": {
     "base_uri": "https://localhost:8080/"
    },
    "executionInfo": {
     "elapsed": 3,
     "status": "ok",
     "timestamp": 1690462732511,
     "user": {
      "displayName": "Fernando Arraz",
      "userId": "05056971633190856577"
     },
     "user_tz": 180
    },
    "id": "B8mCKtnRNgS9",
    "outputId": "c46c04a1-df94-425f-874e-15de1f0e4aa8"
   },
   "outputs": [
    {
     "data": {
      "text/plain": [
       "array([[  1. , 230.1,  37.8,  69.2],\n",
       "       [  1. ,  44.5,  39.3,  45.1],\n",
       "       [  1. ,  17.2,  45.9,  69.3],\n",
       "       [  1. , 151.5,  41.3,  58.5],\n",
       "       [  1. , 180.8,  10.8,  58.4],\n",
       "       [  1. ,   8.7,  48.9,  75. ],\n",
       "       [  1. ,  57.5,  32.8,  23.5],\n",
       "       [  1. , 120.2,  19.6,  11.6],\n",
       "       [  1. ,   8.6,   2.1,   1. ],\n",
       "       [  1. , 199.8,   2.6,  21.2],\n",
       "       [  1. ,  66.1,   5.8,  24.2],\n",
       "       [  1. , 214.7,  24. ,   4. ],\n",
       "       [  1. ,  23.8,  35.1,  65.9],\n",
       "       [  1. ,  97.5,   7.6,   7.2],\n",
       "       [  1. , 204.1,  32.9,  46. ],\n",
       "       [  1. , 195.4,  47.7,  52.9],\n",
       "       [  1. ,  67.8,  36.6, 114. ],\n",
       "       [  1. , 281.4,  39.6,  55.8],\n",
       "       [  1. ,  69.2,  20.5,  18.3],\n",
       "       [  1. , 147.3,  23.9,  19.1],\n",
       "       [  1. , 218.4,  27.7,  53.4],\n",
       "       [  1. , 237.4,   5.1,  23.5],\n",
       "       [  1. ,  13.2,  15.9,  49.6],\n",
       "       [  1. , 228.3,  16.9,  26.2],\n",
       "       [  1. ,  62.3,  12.6,  18.3],\n",
       "       [  1. , 262.9,   3.5,  19.5],\n",
       "       [  1. , 142.9,  29.3,  12.6],\n",
       "       [  1. , 240.1,  16.7,  22.9],\n",
       "       [  1. , 248.8,  27.1,  22.9],\n",
       "       [  1. ,  70.6,  16. ,  40.8],\n",
       "       [  1. , 292.9,  28.3,  43.2],\n",
       "       [  1. , 112.9,  17.4,  38.6],\n",
       "       [  1. ,  97.2,   1.5,  30. ],\n",
       "       [  1. , 265.6,  20. ,   0.3],\n",
       "       [  1. ,  95.7,   1.4,   7.4],\n",
       "       [  1. , 290.7,   4.1,   8.5],\n",
       "       [  1. , 266.9,  43.8,   5. ],\n",
       "       [  1. ,  74.7,  49.4,  45.7],\n",
       "       [  1. ,  43.1,  26.7,  35.1],\n",
       "       [  1. , 228. ,  37.7,  32. ],\n",
       "       [  1. , 202.5,  22.3,  31.6],\n",
       "       [  1. , 177. ,  33.4,  38.7],\n",
       "       [  1. , 293.6,  27.7,   1.8],\n",
       "       [  1. , 206.9,   8.4,  26.4],\n",
       "       [  1. ,  25.1,  25.7,  43.3],\n",
       "       [  1. , 175.1,  22.5,  31.5],\n",
       "       [  1. ,  89.7,   9.9,  35.7],\n",
       "       [  1. , 239.9,  41.5,  18.5],\n",
       "       [  1. , 227.2,  15.8,  49.9],\n",
       "       [  1. ,  66.9,  11.7,  36.8],\n",
       "       [  1. , 199.8,   3.1,  34.6],\n",
       "       [  1. , 100.4,   9.6,   3.6],\n",
       "       [  1. , 216.4,  41.7,  39.6],\n",
       "       [  1. , 182.6,  46.2,  58.7],\n",
       "       [  1. , 262.7,  28.8,  15.9],\n",
       "       [  1. , 198.9,  49.4,  60. ],\n",
       "       [  1. ,   7.3,  28.1,  41.4],\n",
       "       [  1. , 136.2,  19.2,  16.6],\n",
       "       [  1. , 210.8,  49.6,  37.7],\n",
       "       [  1. , 210.7,  29.5,   9.3],\n",
       "       [  1. ,  53.5,   2. ,  21.4],\n",
       "       [  1. , 261.3,  42.7,  54.7],\n",
       "       [  1. , 239.3,  15.5,  27.3],\n",
       "       [  1. , 102.7,  29.6,   8.4],\n",
       "       [  1. , 131.1,  42.8,  28.9],\n",
       "       [  1. ,  69. ,   9.3,   0.9],\n",
       "       [  1. ,  31.5,  24.6,   2.2],\n",
       "       [  1. , 139.3,  14.5,  10.2],\n",
       "       [  1. , 237.4,  27.5,  11. ],\n",
       "       [  1. , 216.8,  43.9,  27.2],\n",
       "       [  1. , 199.1,  30.6,  38.7],\n",
       "       [  1. , 109.8,  14.3,  31.7],\n",
       "       [  1. ,  26.8,  33. ,  19.3],\n",
       "       [  1. , 129.4,   5.7,  31.3],\n",
       "       [  1. , 213.4,  24.6,  13.1],\n",
       "       [  1. ,  16.9,  43.7,  89.4],\n",
       "       [  1. ,  27.5,   1.6,  20.7],\n",
       "       [  1. , 120.5,  28.5,  14.2],\n",
       "       [  1. ,   5.4,  29.9,   9.4],\n",
       "       [  1. , 116. ,   7.7,  23.1],\n",
       "       [  1. ,  76.4,  26.7,  22.3],\n",
       "       [  1. , 239.8,   4.1,  36.9],\n",
       "       [  1. ,  75.3,  20.3,  32.5],\n",
       "       [  1. ,  68.4,  44.5,  35.6],\n",
       "       [  1. , 213.5,  43. ,  33.8],\n",
       "       [  1. , 193.2,  18.4,  65.7],\n",
       "       [  1. ,  76.3,  27.5,  16. ],\n",
       "       [  1. , 110.7,  40.6,  63.2],\n",
       "       [  1. ,  88.3,  25.5,  73.4],\n",
       "       [  1. , 109.8,  47.8,  51.4],\n",
       "       [  1. , 134.3,   4.9,   9.3],\n",
       "       [  1. ,  28.6,   1.5,  33. ],\n",
       "       [  1. , 217.7,  33.5,  59. ],\n",
       "       [  1. , 250.9,  36.5,  72.3],\n",
       "       [  1. , 107.4,  14. ,  10.9],\n",
       "       [  1. , 163.3,  31.6,  52.9],\n",
       "       [  1. , 197.6,   3.5,   5.9],\n",
       "       [  1. , 184.9,  21. ,  22. ],\n",
       "       [  1. , 289.7,  42.3,  51.2],\n",
       "       [  1. , 135.2,  41.7,  45.9],\n",
       "       [  1. , 222.4,   4.3,  49.8],\n",
       "       [  1. , 296.4,  36.3, 100.9],\n",
       "       [  1. , 280.2,  10.1,  21.4],\n",
       "       [  1. , 187.9,  17.2,  17.9],\n",
       "       [  1. , 238.2,  34.3,   5.3],\n",
       "       [  1. , 137.9,  46.4,  59. ],\n",
       "       [  1. ,  25. ,  11. ,  29.7],\n",
       "       [  1. ,  90.4,   0.3,  23.2],\n",
       "       [  1. ,  13.1,   0.4,  25.6],\n",
       "       [  1. , 255.4,  26.9,   5.5],\n",
       "       [  1. , 225.8,   8.2,  56.5],\n",
       "       [  1. , 241.7,  38. ,  23.2],\n",
       "       [  1. , 175.7,  15.4,   2.4],\n",
       "       [  1. , 209.6,  20.6,  10.7],\n",
       "       [  1. ,  78.2,  46.8,  34.5],\n",
       "       [  1. ,  75.1,  35. ,  52.7],\n",
       "       [  1. , 139.2,  14.3,  25.6],\n",
       "       [  1. ,  76.4,   0.8,  14.8],\n",
       "       [  1. , 125.7,  36.9,  79.2],\n",
       "       [  1. ,  19.4,  16. ,  22.3],\n",
       "       [  1. , 141.3,  26.8,  46.2],\n",
       "       [  1. ,  18.8,  21.7,  50.4],\n",
       "       [  1. , 224. ,   2.4,  15.6],\n",
       "       [  1. , 123.1,  34.6,  12.4],\n",
       "       [  1. , 229.5,  32.3,  74.2],\n",
       "       [  1. ,  87.2,  11.8,  25.9],\n",
       "       [  1. ,   7.8,  38.9,  50.6],\n",
       "       [  1. ,  80.2,   0. ,   9.2],\n",
       "       [  1. , 220.3,  49. ,   3.2],\n",
       "       [  1. ,  59.6,  12. ,  43.1],\n",
       "       [  1. ,   0.7,  39.6,   8.7],\n",
       "       [  1. , 265.2,   2.9,  43. ],\n",
       "       [  1. ,   8.4,  27.2,   2.1],\n",
       "       [  1. , 219.8,  33.5,  45.1],\n",
       "       [  1. ,  36.9,  38.6,  65.6],\n",
       "       [  1. ,  48.3,  47. ,   8.5],\n",
       "       [  1. ,  25.6,  39. ,   9.3],\n",
       "       [  1. , 273.7,  28.9,  59.7],\n",
       "       [  1. ,  43. ,  25.9,  20.5],\n",
       "       [  1. , 184.9,  43.9,   1.7],\n",
       "       [  1. ,  73.4,  17. ,  12.9],\n",
       "       [  1. , 193.7,  35.4,  75.6],\n",
       "       [  1. , 220.5,  33.2,  37.9],\n",
       "       [  1. , 104.6,   5.7,  34.4],\n",
       "       [  1. ,  96.2,  14.8,  38.9],\n",
       "       [  1. , 140.3,   1.9,   9. ],\n",
       "       [  1. , 240.1,   7.3,   8.7],\n",
       "       [  1. , 243.2,  49. ,  44.3],\n",
       "       [  1. ,  38. ,  40.3,  11.9],\n",
       "       [  1. ,  44.7,  25.8,  20.6],\n",
       "       [  1. , 280.7,  13.9,  37. ],\n",
       "       [  1. , 121. ,   8.4,  48.7],\n",
       "       [  1. , 197.6,  23.3,  14.2],\n",
       "       [  1. , 171.3,  39.7,  37.7],\n",
       "       [  1. , 187.8,  21.1,   9.5],\n",
       "       [  1. ,   4.1,  11.6,   5.7],\n",
       "       [  1. ,  93.9,  43.5,  50.5],\n",
       "       [  1. , 149.8,   1.3,  24.3],\n",
       "       [  1. ,  11.7,  36.9,  45.2],\n",
       "       [  1. , 131.7,  18.4,  34.6],\n",
       "       [  1. , 172.5,  18.1,  30.7],\n",
       "       [  1. ,  85.7,  35.8,  49.3],\n",
       "       [  1. , 188.4,  18.1,  25.6],\n",
       "       [  1. , 163.5,  36.8,   7.4],\n",
       "       [  1. , 117.2,  14.7,   5.4],\n",
       "       [  1. , 234.5,   3.4,  84.8],\n",
       "       [  1. ,  17.9,  37.6,  21.6],\n",
       "       [  1. , 206.8,   5.2,  19.4],\n",
       "       [  1. , 215.4,  23.6,  57.6],\n",
       "       [  1. , 284.3,  10.6,   6.4],\n",
       "       [  1. ,  50. ,  11.6,  18.4],\n",
       "       [  1. , 164.5,  20.9,  47.4],\n",
       "       [  1. ,  19.6,  20.1,  17. ],\n",
       "       [  1. , 168.4,   7.1,  12.8],\n",
       "       [  1. , 222.4,   3.4,  13.1],\n",
       "       [  1. , 276.9,  48.9,  41.8],\n",
       "       [  1. , 248.4,  30.2,  20.3],\n",
       "       [  1. , 170.2,   7.8,  35.2],\n",
       "       [  1. , 276.7,   2.3,  23.7],\n",
       "       [  1. , 165.6,  10. ,  17.6],\n",
       "       [  1. , 156.6,   2.6,   8.3],\n",
       "       [  1. , 218.5,   5.4,  27.4],\n",
       "       [  1. ,  56.2,   5.7,  29.7],\n",
       "       [  1. , 287.6,  43. ,  71.8],\n",
       "       [  1. , 253.8,  21.3,  30. ],\n",
       "       [  1. , 205. ,  45.1,  19.6],\n",
       "       [  1. , 139.5,   2.1,  26.6],\n",
       "       [  1. , 191.1,  28.7,  18.2],\n",
       "       [  1. , 286. ,  13.9,   3.7],\n",
       "       [  1. ,  18.7,  12.1,  23.4],\n",
       "       [  1. ,  39.5,  41.1,   5.8],\n",
       "       [  1. ,  75.5,  10.8,   6. ],\n",
       "       [  1. ,  17.2,   4.1,  31.6],\n",
       "       [  1. , 166.8,  42. ,   3.6],\n",
       "       [  1. , 149.7,  35.6,   6. ],\n",
       "       [  1. ,  38.2,   3.7,  13.8],\n",
       "       [  1. ,  94.2,   4.9,   8.1],\n",
       "       [  1. , 177. ,   9.3,   6.4],\n",
       "       [  1. , 283.6,  42. ,  66.2],\n",
       "       [  1. , 232.1,   8.6,   8.7]])"
      ]
     },
     "execution_count": 288,
     "metadata": {},
     "output_type": "execute_result"
    }
   ],
   "source": [
    "X"
   ]
  },
  {
   "cell_type": "code",
   "execution_count": 289,
   "metadata": {
    "colab": {
     "base_uri": "https://localhost:8080/"
    },
    "executionInfo": {
     "elapsed": 2,
     "status": "ok",
     "timestamp": 1690462733868,
     "user": {
      "displayName": "Fernando Arraz",
      "userId": "05056971633190856577"
     },
     "user_tz": 180
    },
    "id": "JZCnblZCNlHQ",
    "outputId": "fdf4aa75-f69c-412e-acaf-62ce2360e8ae"
   },
   "outputs": [
    {
     "data": {
      "text/plain": [
       "0      22.1\n",
       "1      10.4\n",
       "2       9.3\n",
       "3      18.5\n",
       "4      12.9\n",
       "       ... \n",
       "195     7.6\n",
       "196     9.7\n",
       "197    12.8\n",
       "198    25.5\n",
       "199    13.4\n",
       "Name: sales, Length: 200, dtype: float64"
      ]
     },
     "execution_count": 289,
     "metadata": {},
     "output_type": "execute_result"
    }
   ],
   "source": [
    "y = df.sales; y"
   ]
  },
  {
   "cell_type": "code",
   "execution_count": 290,
   "metadata": {
    "id": "4_pWeXvFNbhw"
   },
   "outputs": [],
   "source": [
    "#Fazer os calculos conforme\n",
    "XT_X_inv = np.linalg.inv(np.dot(X.T, X))\n",
    "XT = X.T"
   ]
  },
  {
   "cell_type": "code",
   "execution_count": 291,
   "metadata": {
    "colab": {
     "base_uri": "https://localhost:8080/"
    },
    "executionInfo": {
     "elapsed": 410,
     "status": "ok",
     "timestamp": 1690462736316,
     "user": {
      "displayName": "Fernando Arraz",
      "userId": "05056971633190856577"
     },
     "user_tz": 180
    },
    "id": "puA4ZldONbhw",
    "outputId": "220b2a2e-abd2-46d4-ae12-280347d216b1"
   },
   "outputs": [
    {
     "data": {
      "text/plain": [
       "array([ 2.93888937e+00,  4.57646455e-02,  1.88530017e-01, -1.03749304e-03])"
      ]
     },
     "execution_count": 291,
     "metadata": {},
     "output_type": "execute_result"
    }
   ],
   "source": [
    "#calcular a pseudoinversa para encontrar os valores dos coeficientes b0 e b1\n",
    "Beta = np.dot(np.dot(XT_X_inv, XT), y); Beta"
   ]
  },
  {
   "cell_type": "code",
   "execution_count": 292,
   "metadata": {
    "id": "hY5LXMIXNbhw"
   },
   "outputs": [],
   "source": [
    "#Usar metodo da pseudoinversa diretamente\n",
    "X_pinv = np.linalg.pinv(X)"
   ]
  },
  {
   "cell_type": "code",
   "execution_count": 293,
   "metadata": {
    "colab": {
     "base_uri": "https://localhost:8080/"
    },
    "executionInfo": {
     "elapsed": 1,
     "status": "ok",
     "timestamp": 1690462738076,
     "user": {
      "displayName": "Fernando Arraz",
      "userId": "05056971633190856577"
     },
     "user_tz": 180
    },
    "id": "rn3t4Gx3Nbhw",
    "outputId": "ef88bb8a-acb5-43ef-c20b-73d0eb0326a7"
   },
   "outputs": [
    {
     "data": {
      "text/plain": [
       "array([ 2.93888937e+00,  4.57646455e-02,  1.88530017e-01, -1.03749304e-03])"
      ]
     },
     "execution_count": 293,
     "metadata": {},
     "output_type": "execute_result"
    }
   ],
   "source": [
    "np.dot(X_pinv, y)"
   ]
  },
  {
   "cell_type": "code",
   "execution_count": 294,
   "metadata": {
    "colab": {
     "base_uri": "https://localhost:8080/",
     "height": 52
    },
    "executionInfo": {
     "elapsed": 2,
     "status": "ok",
     "timestamp": 1690462738437,
     "user": {
      "displayName": "Fernando Arraz",
      "userId": "05056971633190856577"
     },
     "user_tz": 180
    },
    "id": "5UfCF0ozNbhw",
    "outputId": "ef21eebb-ca4b-4138-bb3e-d075565efe3b"
   },
   "outputs": [
    {
     "data": {
      "text/markdown": [
       "O valor de $\\beta_0$ é 2.9388893694594476 e o valor de $\\vec \\beta$ é [ 0.04576465  0.18853002 -0.00103749]"
      ],
      "text/plain": [
       "<IPython.core.display.Markdown object>"
      ]
     },
     "metadata": {},
     "output_type": "display_data"
    }
   ],
   "source": [
    "from IPython.display import display, Markdown\n",
    "display(Markdown(rf\"O valor de $\\beta_0$ é {Beta[0]} e o valor de $\\vec \\beta$ é {Beta[1:]}\"))"
   ]
  },
  {
   "cell_type": "markdown",
   "metadata": {
    "id": "H78mqRDKO6Q_"
   },
   "source": [
    "Usando a biblioteca Scikit-Learn"
   ]
  },
  {
   "cell_type": "code",
   "execution_count": 295,
   "metadata": {
    "colab": {
     "base_uri": "https://localhost:8080/",
     "height": 87
    },
    "executionInfo": {
     "elapsed": 472,
     "status": "ok",
     "timestamp": 1690462849772,
     "user": {
      "displayName": "Fernando Arraz",
      "userId": "05056971633190856577"
     },
     "user_tz": 180
    },
    "id": "ShEhRfXeCVNg",
    "outputId": "6d1ff847-05e7-48d7-e1e2-f58f1df2706e"
   },
   "outputs": [
    {
     "name": "stdout",
     "output_type": "stream",
     "text": [
      "Ordem das variáveis indep. calculadas ['TV' 'radio' 'newspaper'] \n",
      "\n"
     ]
    },
    {
     "data": {
      "text/markdown": [
       "Usando o Scikit-Learn: O valor de $\\beta_0$ é 2.9388893694594067 e o valor de $\\vec \\beta$ é [ 0.04576465  0.18853002 -0.00103749]  "
      ],
      "text/plain": [
       "<IPython.core.display.Markdown object>"
      ]
     },
     "metadata": {},
     "output_type": "display_data"
    }
   ],
   "source": [
    "#Instanciar o objeto LinearRegression da Scikit-learn\n",
    "reg = LinearRegression()\n",
    "reg.fit(df[df.columns[0:3]], df.sales)\n",
    "\n",
    "#Imprimir os resultados\n",
    "print('Ordem das variáveis indep. calculadas', reg.feature_names_in_, '\\n')\n",
    "from IPython.display import display, Markdown\n",
    "display(Markdown(rf\"Usando o Scikit-Learn: O valor de $\\beta_0$ é {reg.intercept_} e o valor de $\\vec \\beta$ é {reg.coef_}  \"))"
   ]
  },
  {
   "cell_type": "markdown",
   "metadata": {
    "id": "Rfct7NQXM8wx"
   },
   "source": [
    "**OBS:**\n",
    "\n",
    "Esta parte é uma introdução para a próxima prática, mas já pode ser verificado que os coeficientes obtidos são iguais (ver imagem a seguir em destaque) aos obtidos pela biblioteca Scikit-Learn, ou até mesmo usando a solução das pseudoinversas, não é demais !!!"
   ]
  },
  {
   "cell_type": "markdown",
   "metadata": {
    "id": "WXZDFFAsPXDZ"
   },
   "source": [
    "![image.png](data:image/png;base64,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)"
   ]
  },
  {
   "cell_type": "markdown",
   "metadata": {
    "id": "-YwPdSNePFLo"
   },
   "source": [
    "**Usando a biblioteca statsmodels**\n",
    "\n",
    "As informações mostradas aqui estão com mais detalhes, mas podem limitar a busca no valor dos coeficientes por enquanto e a significância estatística para cada valor estimado dos coeficientes. Vamos lá!"
   ]
  },
  {
   "cell_type": "code",
   "execution_count": 296,
   "metadata": {
    "id": "Nlf8rpOeFBOT"
   },
   "outputs": [],
   "source": [
    "import numpy as np\n",
    "import statsmodels.formula.api as sm"
   ]
  },
  {
   "cell_type": "code",
   "execution_count": 297,
   "metadata": {
    "id": "fGjIi-VoFaEN"
   },
   "outputs": [],
   "source": [
    "results = sm.ols(\"sales~TV+radio+newspaper\" , data=df).fit()"
   ]
  },
  {
   "cell_type": "code",
   "execution_count": 298,
   "metadata": {
    "colab": {
     "base_uri": "https://localhost:8080/"
    },
    "executionInfo": {
     "elapsed": 2,
     "status": "ok",
     "timestamp": 1690462918813,
     "user": {
      "displayName": "Fernando Arraz",
      "userId": "05056971633190856577"
     },
     "user_tz": 180
    },
    "id": "ORBW8LiTFf0t",
    "outputId": "f73ced4f-dad7-491b-98ed-1141abbb66e1"
   },
   "outputs": [
    {
     "name": "stdout",
     "output_type": "stream",
     "text": [
      "                            OLS Regression Results                            \n",
      "==============================================================================\n",
      "Dep. Variable:                  sales   R-squared:                       0.897\n",
      "Model:                            OLS   Adj. R-squared:                  0.896\n",
      "Method:                 Least Squares   F-statistic:                     570.3\n",
      "Date:                Tue, 14 May 2024   Prob (F-statistic):           1.58e-96\n",
      "Time:                        00:14:58   Log-Likelihood:                -386.18\n",
      "No. Observations:                 200   AIC:                             780.4\n",
      "Df Residuals:                     196   BIC:                             793.6\n",
      "Df Model:                           3                                         \n",
      "Covariance Type:            nonrobust                                         \n",
      "==============================================================================\n",
      "                 coef    std err          t      P>|t|      [0.025      0.975]\n",
      "------------------------------------------------------------------------------\n",
      "Intercept      2.9389      0.312      9.422      0.000       2.324       3.554\n",
      "TV             0.0458      0.001     32.809      0.000       0.043       0.049\n",
      "radio          0.1885      0.009     21.893      0.000       0.172       0.206\n",
      "newspaper     -0.0010      0.006     -0.177      0.860      -0.013       0.011\n",
      "==============================================================================\n",
      "Omnibus:                       60.414   Durbin-Watson:                   2.084\n",
      "Prob(Omnibus):                  0.000   Jarque-Bera (JB):              151.241\n",
      "Skew:                          -1.327   Prob(JB):                     1.44e-33\n",
      "Kurtosis:                       6.332   Cond. No.                         454.\n",
      "==============================================================================\n",
      "\n",
      "Notes:\n",
      "[1] Standard Errors assume that the covariance matrix of the errors is correctly specified.\n"
     ]
    }
   ],
   "source": [
    "#Ver resultado completo da biblioteca statsmodels\n",
    "print(results.summary())"
   ]
  },
  {
   "cell_type": "markdown",
   "metadata": {
    "id": "hJ1czKx4fvH8"
   },
   "source": [
    "**Referências:**\n",
    "\n",
    "[1] Gareth  James,  Daniela  Witten,  Trevor  Hastie  and  Robert  Tibshirani, “An  Introduction  to Statistical Learning, with Applications in R”, Springer Texts in Statistics, Springer, 2013.\n",
    "\n",
    "[2] MORETTIN, Pedro A.; BUSSAB, Wilton O. Estatística básica. Saraiva Educação SA, 2017.\n",
    "\n",
    "[3] VANDERPLAS, Jake. Python data science handbook: Essential tools for working with data. \" O'Reilly Media, Inc.\", 2016.\n"
   ]
  },
  {
   "cell_type": "code",
   "execution_count": null,
   "metadata": {},
   "outputs": [],
   "source": []
  }
 ],
 "metadata": {
  "colab": {
   "provenance": []
  },
  "kernelspec": {
   "display_name": "Python 3 (ipykernel)",
   "language": "python",
   "name": "python3"
  },
  "language_info": {
   "codemirror_mode": {
    "name": "ipython",
    "version": 3
   },
   "file_extension": ".py",
   "mimetype": "text/x-python",
   "name": "python",
   "nbconvert_exporter": "python",
   "pygments_lexer": "ipython3",
   "version": "3.11.5"
  }
 },
 "nbformat": 4,
 "nbformat_minor": 1
}
